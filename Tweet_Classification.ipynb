{
 "cells": [
  {
   "cell_type": "markdown",
   "metadata": {
    "id": "OJHB_jJzTjaF"
   },
   "source": [
    "# Magnimind Academy - ML Bootcamp - NLP Project"
   ]
  },
  {
   "cell_type": "markdown",
   "metadata": {},
   "source": [
    "### Problem description:\n",
    "\n",
    "Existing process:\n",
    "1. A rule-based algorithm (<span style='color:red'>henceforth refered to as 'RBA'</span>) assigns each tweet to one of a set of categories (Business, Animal, Weather, etc.) based on the text of the tweet;\n",
    "2. A human editor reads the text of the tweet and views any associated pictures or videos (if available) and determines whether the the RBA's categorization is correct.\n",
    "\n",
    "The goal of this project is to develop an NLP classifier to perform the human editor's task. The NLP classifier will:\n",
    "1. Predict the *edInput* column (label);\n",
    "2. By analyzing some selected set of columns (features) in the tweet_data.csv file - the exact set of features will be determined by trial and error;\n",
    "3. The false positive rate is to be minimized. For example, if a tweet is labeled as 'Sports,' we do not want the user to click on it only to find out that the tweet has nothing to do with sports;\n",
    "4. Only the 'Business' category is to be considered."
   ]
  },
  {
   "cell_type": "code",
   "execution_count": 1,
   "metadata": {},
   "outputs": [],
   "source": [
    "import pandas as pd\n",
    "import numpy as np\n",
    "import matplotlib.pyplot as plt\n",
    "import warnings"
   ]
  },
  {
   "cell_type": "markdown",
   "metadata": {},
   "source": [
    "## Read the raw tweet data"
   ]
  },
  {
   "cell_type": "code",
   "execution_count": 2,
   "metadata": {},
   "outputs": [],
   "source": [
    "tweet_file_name = 'tweet_data.csv'"
   ]
  },
  {
   "cell_type": "code",
   "execution_count": 3,
   "metadata": {},
   "outputs": [],
   "source": [
    "df_tweets = pd.read_csv(tweet_file_name)"
   ]
  },
  {
   "cell_type": "markdown",
   "metadata": {},
   "source": [
    "What is the size of the data?"
   ]
  },
  {
   "cell_type": "code",
   "execution_count": 4,
   "metadata": {},
   "outputs": [
    {
     "name": "stdout",
     "output_type": "stream",
     "text": [
      "The raw data set contains 785916 rows and 18 columns\n"
     ]
    }
   ],
   "source": [
    "print('The raw data set contains {} rows and {} columns'.format(df_tweets.shape[0], df_tweets.shape[1]))"
   ]
  },
  {
   "cell_type": "markdown",
   "metadata": {},
   "source": [
    "## Data exploration and preparation"
   ]
  },
  {
   "cell_type": "markdown",
   "metadata": {},
   "source": [
    "What are the columns?"
   ]
  },
  {
   "cell_type": "code",
   "execution_count": 5,
   "metadata": {},
   "outputs": [
    {
     "data": {
      "text/plain": [
       "Index(['tweetID', 'crDate', 'edInput', 'editor', 'engages', 'isApproved',\n",
       "       'isEdNeed', 'isRT', 'likes', 'photoUrl', 'retweets', 'rtUsID', 'text',\n",
       "       'topicName', 'usFlwrs', 'usID', 'usName', 'videoUrl'],\n",
       "      dtype='object')"
      ]
     },
     "execution_count": 5,
     "metadata": {},
     "output_type": "execute_result"
    }
   ],
   "source": [
    "df_tweets.columns"
   ]
  },
  {
   "cell_type": "markdown",
   "metadata": {},
   "source": [
    "What are the categories?"
   ]
  },
  {
   "cell_type": "code",
   "execution_count": 6,
   "metadata": {},
   "outputs": [
    {
     "data": {
      "text/plain": [
       "array(['Business', 'Animal', 'Memes', 'Nature', 'Travel', 'Interesting',\n",
       "       'News', 'Fashion', 'Art', 'Personal Development', 'Motivational',\n",
       "       'DIY & Craft', 'Editorial Pics', 'Funny', 'Poem', 'World Leaders',\n",
       "       'Entrepreneurship', 'US News', 'Journalists', 'Flowers',\n",
       "       'Cryptocurrency', 'Photography', 'Design & Architecture',\n",
       "       'Fitness', 'Spirituality', 'Startup', 'Space', 'Technology',\n",
       "       'Digital Media & Internet', 'Psychology', 'Science', 'Basketball',\n",
       "       'Humor', 'Mindfulness', 'Medical', 'Informative', 'Love', 'Stocks',\n",
       "       'Nanotech', 'Biotech', 'science', 'Random'], dtype=object)"
      ]
     },
     "execution_count": 6,
     "metadata": {},
     "output_type": "execute_result"
    }
   ],
   "source": [
    "df_tweets['topicName'].unique()"
   ]
  },
  {
   "cell_type": "markdown",
   "metadata": {},
   "source": [
    "'Science' and 'science' are probably meant to be one category. Normally, I would change 'science' to 'Science' in the *topicName* column. Since this project is only concerned with the 'Business' category, the rows for all the other categories are going to be deleted, so I won't change 'science' to 'Science'."
   ]
  },
  {
   "cell_type": "markdown",
   "metadata": {},
   "source": [
    "### Keep only the 'Business' category rows"
   ]
  },
  {
   "cell_type": "code",
   "execution_count": 7,
   "metadata": {},
   "outputs": [],
   "source": [
    "# drop all rows that are not for the Business category.\n",
    "keep_category = 'Business'\n",
    "df_tweets = df_tweets[df_tweets['topicName'] == keep_category]"
   ]
  },
  {
   "cell_type": "markdown",
   "metadata": {},
   "source": [
    "What is the size of the remaining data?"
   ]
  },
  {
   "cell_type": "code",
   "execution_count": 8,
   "metadata": {},
   "outputs": [
    {
     "data": {
      "text/plain": [
       "(164602, 18)"
      ]
     },
     "execution_count": 8,
     "metadata": {},
     "output_type": "execute_result"
    }
   ],
   "source": [
    "df_tweets.shape"
   ]
  },
  {
   "cell_type": "markdown",
   "metadata": {},
   "source": [
    "### Check the data type of each column."
   ]
  },
  {
   "cell_type": "code",
   "execution_count": 9,
   "metadata": {},
   "outputs": [
    {
     "data": {
      "text/plain": [
       "tweetID        int64\n",
       "crDate        object\n",
       "edInput        int64\n",
       "editor         int64\n",
       "engages        int64\n",
       "isApproved      bool\n",
       "isEdNeed        bool\n",
       "isRT            bool\n",
       "likes          int64\n",
       "photoUrl      object\n",
       "retweets       int64\n",
       "rtUsID         int64\n",
       "text          object\n",
       "topicName     object\n",
       "usFlwrs        int64\n",
       "usID           int64\n",
       "usName        object\n",
       "videoUrl      object\n",
       "dtype: object"
      ]
     },
     "execution_count": 9,
     "metadata": {},
     "output_type": "execute_result"
    }
   ],
   "source": [
    "df_tweets.dtypes"
   ]
  },
  {
   "cell_type": "markdown",
   "metadata": {},
   "source": [
    "The expected numeric columns show up as int64. The columns of type 'object' need a closer look since it can indicate that different data types are present."
   ]
  },
  {
   "cell_type": "markdown",
   "metadata": {},
   "source": [
    "### Check numeric data"
   ]
  },
  {
   "cell_type": "code",
   "execution_count": 10,
   "metadata": {
    "scrolled": true
   },
   "outputs": [
    {
     "data": {
      "text/html": [
       "<div>\n",
       "<style scoped>\n",
       "    .dataframe tbody tr th:only-of-type {\n",
       "        vertical-align: middle;\n",
       "    }\n",
       "\n",
       "    .dataframe tbody tr th {\n",
       "        vertical-align: top;\n",
       "    }\n",
       "\n",
       "    .dataframe thead th {\n",
       "        text-align: right;\n",
       "    }\n",
       "</style>\n",
       "<table border=\"1\" class=\"dataframe\">\n",
       "  <thead>\n",
       "    <tr style=\"text-align: right;\">\n",
       "      <th></th>\n",
       "      <th>tweetID</th>\n",
       "      <th>edInput</th>\n",
       "      <th>editor</th>\n",
       "      <th>engages</th>\n",
       "      <th>likes</th>\n",
       "      <th>retweets</th>\n",
       "      <th>rtUsID</th>\n",
       "      <th>usFlwrs</th>\n",
       "      <th>usID</th>\n",
       "    </tr>\n",
       "  </thead>\n",
       "  <tbody>\n",
       "    <tr>\n",
       "      <th>count</th>\n",
       "      <td>1.646020e+05</td>\n",
       "      <td>164602.000000</td>\n",
       "      <td>164602.000000</td>\n",
       "      <td>164602.000000</td>\n",
       "      <td>164602.000000</td>\n",
       "      <td>164602.000000</td>\n",
       "      <td>1.646020e+05</td>\n",
       "      <td>1.646020e+05</td>\n",
       "      <td>1.646020e+05</td>\n",
       "    </tr>\n",
       "    <tr>\n",
       "      <th>mean</th>\n",
       "      <td>1.107667e+18</td>\n",
       "      <td>-0.222166</td>\n",
       "      <td>1254.711127</td>\n",
       "      <td>96.121779</td>\n",
       "      <td>64.771607</td>\n",
       "      <td>31.350172</td>\n",
       "      <td>5.284982e+13</td>\n",
       "      <td>3.813214e+06</td>\n",
       "      <td>7.074258e+15</td>\n",
       "    </tr>\n",
       "    <tr>\n",
       "      <th>std</th>\n",
       "      <td>2.471932e+16</td>\n",
       "      <td>1.475269</td>\n",
       "      <td>2169.952625</td>\n",
       "      <td>1520.023744</td>\n",
       "      <td>1211.638565</td>\n",
       "      <td>334.185119</td>\n",
       "      <td>6.780304e+15</td>\n",
       "      <td>3.400048e+06</td>\n",
       "      <td>7.992100e+16</td>\n",
       "    </tr>\n",
       "    <tr>\n",
       "      <th>min</th>\n",
       "      <td>9.403631e+17</td>\n",
       "      <td>-1.000000</td>\n",
       "      <td>-1.000000</td>\n",
       "      <td>1.000000</td>\n",
       "      <td>0.000000</td>\n",
       "      <td>0.000000</td>\n",
       "      <td>-1.000000e+00</td>\n",
       "      <td>3.000000e+00</td>\n",
       "      <td>1.022100e+04</td>\n",
       "    </tr>\n",
       "    <tr>\n",
       "      <th>25%</th>\n",
       "      <td>1.085593e+18</td>\n",
       "      <td>-1.000000</td>\n",
       "      <td>-1.000000</td>\n",
       "      <td>19.000000</td>\n",
       "      <td>12.000000</td>\n",
       "      <td>7.000000</td>\n",
       "      <td>-1.000000e+00</td>\n",
       "      <td>2.504196e+06</td>\n",
       "      <td>1.689648e+07</td>\n",
       "    </tr>\n",
       "    <tr>\n",
       "      <th>50%</th>\n",
       "      <td>1.106266e+18</td>\n",
       "      <td>-1.000000</td>\n",
       "      <td>-1.000000</td>\n",
       "      <td>36.000000</td>\n",
       "      <td>22.000000</td>\n",
       "      <td>13.000000</td>\n",
       "      <td>-1.000000e+00</td>\n",
       "      <td>2.712062e+06</td>\n",
       "      <td>2.814065e+07</td>\n",
       "    </tr>\n",
       "    <tr>\n",
       "      <th>75%</th>\n",
       "      <td>1.128041e+18</td>\n",
       "      <td>1.000000</td>\n",
       "      <td>5001.000000</td>\n",
       "      <td>70.000000</td>\n",
       "      <td>45.000000</td>\n",
       "      <td>26.000000</td>\n",
       "      <td>-1.000000e+00</td>\n",
       "      <td>5.243273e+06</td>\n",
       "      <td>3.471336e+07</td>\n",
       "    </tr>\n",
       "    <tr>\n",
       "      <th>max</th>\n",
       "      <td>1.154179e+18</td>\n",
       "      <td>4.000000</td>\n",
       "      <td>5008.000000</td>\n",
       "      <td>244498.000000</td>\n",
       "      <td>202056.000000</td>\n",
       "      <td>56654.000000</td>\n",
       "      <td>8.699186e+17</td>\n",
       "      <td>6.221739e+07</td>\n",
       "      <td>1.084561e+18</td>\n",
       "    </tr>\n",
       "  </tbody>\n",
       "</table>\n",
       "</div>"
      ],
      "text/plain": [
       "            tweetID        edInput         editor        engages  \\\n",
       "count  1.646020e+05  164602.000000  164602.000000  164602.000000   \n",
       "mean   1.107667e+18      -0.222166    1254.711127      96.121779   \n",
       "std    2.471932e+16       1.475269    2169.952625    1520.023744   \n",
       "min    9.403631e+17      -1.000000      -1.000000       1.000000   \n",
       "25%    1.085593e+18      -1.000000      -1.000000      19.000000   \n",
       "50%    1.106266e+18      -1.000000      -1.000000      36.000000   \n",
       "75%    1.128041e+18       1.000000    5001.000000      70.000000   \n",
       "max    1.154179e+18       4.000000    5008.000000  244498.000000   \n",
       "\n",
       "               likes       retweets        rtUsID       usFlwrs          usID  \n",
       "count  164602.000000  164602.000000  1.646020e+05  1.646020e+05  1.646020e+05  \n",
       "mean       64.771607      31.350172  5.284982e+13  3.813214e+06  7.074258e+15  \n",
       "std      1211.638565     334.185119  6.780304e+15  3.400048e+06  7.992100e+16  \n",
       "min         0.000000       0.000000 -1.000000e+00  3.000000e+00  1.022100e+04  \n",
       "25%        12.000000       7.000000 -1.000000e+00  2.504196e+06  1.689648e+07  \n",
       "50%        22.000000      13.000000 -1.000000e+00  2.712062e+06  2.814065e+07  \n",
       "75%        45.000000      26.000000 -1.000000e+00  5.243273e+06  3.471336e+07  \n",
       "max    202056.000000   56654.000000  8.699186e+17  6.221739e+07  1.084561e+18  "
      ]
     },
     "execution_count": 10,
     "metadata": {},
     "output_type": "execute_result"
    }
   ],
   "source": [
    "df_tweets.describe(include='int64')"
   ]
  },
  {
   "cell_type": "markdown",
   "metadata": {},
   "source": [
    "Observations about numeric variables:\n",
    "1. The count equals the number of rows for all the numeric columns, so the are no missing entries;\n",
    "2. The median for *edInput* is -1, meaning at least half of the rows have not yet been checked by a human editor. These rows cannot be used for training or testing, and will have to be removed;\n",
    "3. Similarly, the median for *editor* is -1, meaning at least half the rows have not been assigned a human editor to check the RBA categization. These rows should have -1 in the *edInput* column;\n",
    "4. Some rows have *edInput* greater than 2. These rows have either already been classified (and are duplicates), or the human editor is unsure about the correct classification."
   ]
  },
  {
   "cell_type": "markdown",
   "metadata": {},
   "source": [
    "### Only keep rows where the RBA categorization has been checked by a human editor"
   ]
  },
  {
   "cell_type": "markdown",
   "metadata": {},
   "source": [
    "*edInput* is marked as follows:\n",
    "* -1: not yet labeled;\n",
    "* 1: classification is True (correct);\n",
    "* 2: classification is False (incorrect);\n",
    "* 3: human editors are not sure if the classification is correct;\n",
    "* 4: the classification is True (correct) but this tweet is already displayed."
   ]
  },
  {
   "cell_type": "code",
   "execution_count": 11,
   "metadata": {},
   "outputs": [],
   "source": [
    "df_tweets = df_tweets[df_tweets['edInput'].isin([1, 2]) == True]"
   ]
  },
  {
   "cell_type": "markdown",
   "metadata": {},
   "source": [
    "What is the size of the remaining data?"
   ]
  },
  {
   "cell_type": "code",
   "execution_count": 12,
   "metadata": {},
   "outputs": [
    {
     "data": {
      "text/plain": [
       "(30024, 18)"
      ]
     },
     "execution_count": 12,
     "metadata": {},
     "output_type": "execute_result"
    }
   ],
   "source": [
    "df_tweets.shape"
   ]
  },
  {
   "cell_type": "markdown",
   "metadata": {},
   "source": [
    "### Check numeric data again"
   ]
  },
  {
   "cell_type": "code",
   "execution_count": 13,
   "metadata": {},
   "outputs": [
    {
     "data": {
      "text/html": [
       "<div>\n",
       "<style scoped>\n",
       "    .dataframe tbody tr th:only-of-type {\n",
       "        vertical-align: middle;\n",
       "    }\n",
       "\n",
       "    .dataframe tbody tr th {\n",
       "        vertical-align: top;\n",
       "    }\n",
       "\n",
       "    .dataframe thead th {\n",
       "        text-align: right;\n",
       "    }\n",
       "</style>\n",
       "<table border=\"1\" class=\"dataframe\">\n",
       "  <thead>\n",
       "    <tr style=\"text-align: right;\">\n",
       "      <th></th>\n",
       "      <th>tweetID</th>\n",
       "      <th>edInput</th>\n",
       "      <th>editor</th>\n",
       "      <th>engages</th>\n",
       "      <th>likes</th>\n",
       "      <th>retweets</th>\n",
       "      <th>rtUsID</th>\n",
       "      <th>usFlwrs</th>\n",
       "      <th>usID</th>\n",
       "    </tr>\n",
       "  </thead>\n",
       "  <tbody>\n",
       "    <tr>\n",
       "      <th>count</th>\n",
       "      <td>3.002400e+04</td>\n",
       "      <td>30024.000000</td>\n",
       "      <td>30024.000000</td>\n",
       "      <td>30024.000000</td>\n",
       "      <td>30024.000000</td>\n",
       "      <td>30024.000000</td>\n",
       "      <td>3.002400e+04</td>\n",
       "      <td>3.002400e+04</td>\n",
       "      <td>3.002400e+04</td>\n",
       "    </tr>\n",
       "    <tr>\n",
       "      <th>mean</th>\n",
       "      <td>1.126049e+18</td>\n",
       "      <td>1.405942</td>\n",
       "      <td>5004.619271</td>\n",
       "      <td>216.237443</td>\n",
       "      <td>151.575373</td>\n",
       "      <td>64.662070</td>\n",
       "      <td>5.333473e+06</td>\n",
       "      <td>3.603612e+06</td>\n",
       "      <td>9.435653e+15</td>\n",
       "    </tr>\n",
       "    <tr>\n",
       "      <th>std</th>\n",
       "      <td>1.608622e+16</td>\n",
       "      <td>0.491082</td>\n",
       "      <td>1.460386</td>\n",
       "      <td>3005.523592</td>\n",
       "      <td>2402.731659</td>\n",
       "      <td>632.124796</td>\n",
       "      <td>5.389986e+07</td>\n",
       "      <td>2.654004e+06</td>\n",
       "      <td>9.051669e+16</td>\n",
       "    </tr>\n",
       "    <tr>\n",
       "      <th>min</th>\n",
       "      <td>1.072759e+18</td>\n",
       "      <td>1.000000</td>\n",
       "      <td>5001.000000</td>\n",
       "      <td>1.000000</td>\n",
       "      <td>0.000000</td>\n",
       "      <td>0.000000</td>\n",
       "      <td>-1.000000e+00</td>\n",
       "      <td>1.870000e+02</td>\n",
       "      <td>7.673960e+05</td>\n",
       "    </tr>\n",
       "    <tr>\n",
       "      <th>25%</th>\n",
       "      <td>1.111217e+18</td>\n",
       "      <td>1.000000</td>\n",
       "      <td>5004.000000</td>\n",
       "      <td>49.000000</td>\n",
       "      <td>31.000000</td>\n",
       "      <td>17.000000</td>\n",
       "      <td>-1.000000e+00</td>\n",
       "      <td>2.574673e+06</td>\n",
       "      <td>2.056264e+07</td>\n",
       "    </tr>\n",
       "    <tr>\n",
       "      <th>50%</th>\n",
       "      <td>1.125888e+18</td>\n",
       "      <td>1.000000</td>\n",
       "      <td>5004.000000</td>\n",
       "      <td>73.000000</td>\n",
       "      <td>47.000000</td>\n",
       "      <td>26.000000</td>\n",
       "      <td>-1.000000e+00</td>\n",
       "      <td>2.723230e+06</td>\n",
       "      <td>3.471336e+07</td>\n",
       "    </tr>\n",
       "    <tr>\n",
       "      <th>75%</th>\n",
       "      <td>1.140068e+18</td>\n",
       "      <td>2.000000</td>\n",
       "      <td>5004.000000</td>\n",
       "      <td>133.000000</td>\n",
       "      <td>87.000000</td>\n",
       "      <td>47.000000</td>\n",
       "      <td>-1.000000e+00</td>\n",
       "      <td>5.317818e+06</td>\n",
       "      <td>3.471336e+07</td>\n",
       "    </tr>\n",
       "    <tr>\n",
       "      <th>max</th>\n",
       "      <td>1.154172e+18</td>\n",
       "      <td>2.000000</td>\n",
       "      <td>5008.000000</td>\n",
       "      <td>244498.000000</td>\n",
       "      <td>202056.000000</td>\n",
       "      <td>56654.000000</td>\n",
       "      <td>3.333216e+09</td>\n",
       "      <td>6.221739e+07</td>\n",
       "      <td>1.067219e+18</td>\n",
       "    </tr>\n",
       "  </tbody>\n",
       "</table>\n",
       "</div>"
      ],
      "text/plain": [
       "            tweetID       edInput        editor        engages          likes  \\\n",
       "count  3.002400e+04  30024.000000  30024.000000   30024.000000   30024.000000   \n",
       "mean   1.126049e+18      1.405942   5004.619271     216.237443     151.575373   \n",
       "std    1.608622e+16      0.491082      1.460386    3005.523592    2402.731659   \n",
       "min    1.072759e+18      1.000000   5001.000000       1.000000       0.000000   \n",
       "25%    1.111217e+18      1.000000   5004.000000      49.000000      31.000000   \n",
       "50%    1.125888e+18      1.000000   5004.000000      73.000000      47.000000   \n",
       "75%    1.140068e+18      2.000000   5004.000000     133.000000      87.000000   \n",
       "max    1.154172e+18      2.000000   5008.000000  244498.000000  202056.000000   \n",
       "\n",
       "           retweets        rtUsID       usFlwrs          usID  \n",
       "count  30024.000000  3.002400e+04  3.002400e+04  3.002400e+04  \n",
       "mean      64.662070  5.333473e+06  3.603612e+06  9.435653e+15  \n",
       "std      632.124796  5.389986e+07  2.654004e+06  9.051669e+16  \n",
       "min        0.000000 -1.000000e+00  1.870000e+02  7.673960e+05  \n",
       "25%       17.000000 -1.000000e+00  2.574673e+06  2.056264e+07  \n",
       "50%       26.000000 -1.000000e+00  2.723230e+06  3.471336e+07  \n",
       "75%       47.000000 -1.000000e+00  5.317818e+06  3.471336e+07  \n",
       "max    56654.000000  3.333216e+09  6.221739e+07  1.067219e+18  "
      ]
     },
     "execution_count": 13,
     "metadata": {},
     "output_type": "execute_result"
    }
   ],
   "source": [
    "df_tweets.describe(include='int64')"
   ]
  },
  {
   "cell_type": "markdown",
   "metadata": {},
   "source": [
    "Observations about remaining numeric data:\n",
    "1. *edInput* does not have values less than 1 and greater than 2 - that's good;\n",
    "2. All remaining rows had an editor assigned to them (no rows have *editor* equal to -1) - also good;\n",
    "3. What is *rtUsID*? Is it the user ID? At least 75% of the *rtUsID* are missing and something may have to be done about these entries."
   ]
  },
  {
   "cell_type": "markdown",
   "metadata": {},
   "source": [
    "### Check non-numeric data"
   ]
  },
  {
   "cell_type": "code",
   "execution_count": 14,
   "metadata": {},
   "outputs": [
    {
     "data": {
      "text/html": [
       "<div>\n",
       "<style scoped>\n",
       "    .dataframe tbody tr th:only-of-type {\n",
       "        vertical-align: middle;\n",
       "    }\n",
       "\n",
       "    .dataframe tbody tr th {\n",
       "        vertical-align: top;\n",
       "    }\n",
       "\n",
       "    .dataframe thead th {\n",
       "        text-align: right;\n",
       "    }\n",
       "</style>\n",
       "<table border=\"1\" class=\"dataframe\">\n",
       "  <thead>\n",
       "    <tr style=\"text-align: right;\">\n",
       "      <th></th>\n",
       "      <th>crDate</th>\n",
       "      <th>isApproved</th>\n",
       "      <th>isEdNeed</th>\n",
       "      <th>isRT</th>\n",
       "      <th>photoUrl</th>\n",
       "      <th>text</th>\n",
       "      <th>topicName</th>\n",
       "      <th>usName</th>\n",
       "      <th>videoUrl</th>\n",
       "    </tr>\n",
       "  </thead>\n",
       "  <tbody>\n",
       "    <tr>\n",
       "      <th>count</th>\n",
       "      <td>30024</td>\n",
       "      <td>30024</td>\n",
       "      <td>30024</td>\n",
       "      <td>30024</td>\n",
       "      <td>2389</td>\n",
       "      <td>30024</td>\n",
       "      <td>30024</td>\n",
       "      <td>30024</td>\n",
       "      <td>7184</td>\n",
       "    </tr>\n",
       "    <tr>\n",
       "      <th>unique</th>\n",
       "      <td>29838</td>\n",
       "      <td>2</td>\n",
       "      <td>1</td>\n",
       "      <td>2</td>\n",
       "      <td>2378</td>\n",
       "      <td>30021</td>\n",
       "      <td>1</td>\n",
       "      <td>449</td>\n",
       "      <td>3262</td>\n",
       "    </tr>\n",
       "    <tr>\n",
       "      <th>top</th>\n",
       "      <td>2019-05-02 18:20:00</td>\n",
       "      <td>True</td>\n",
       "      <td>True</td>\n",
       "      <td>False</td>\n",
       "      <td>https://pbs.twimg.com/media/C16cvwrUkAEvjtc.jpg</td>\n",
       "      <td>Google spent 10 years researching what makes t...</td>\n",
       "      <td>Business</td>\n",
       "      <td>Bloomberg</td>\n",
       "      <td>https://video.twimg.com/amplify_video/11008289...</td>\n",
       "    </tr>\n",
       "    <tr>\n",
       "      <th>freq</th>\n",
       "      <td>3</td>\n",
       "      <td>17836</td>\n",
       "      <td>30024</td>\n",
       "      <td>25346</td>\n",
       "      <td>4</td>\n",
       "      <td>2</td>\n",
       "      <td>30024</td>\n",
       "      <td>11467</td>\n",
       "      <td>14</td>\n",
       "    </tr>\n",
       "  </tbody>\n",
       "</table>\n",
       "</div>"
      ],
      "text/plain": [
       "                     crDate isApproved isEdNeed   isRT  \\\n",
       "count                 30024      30024    30024  30024   \n",
       "unique                29838          2        1      2   \n",
       "top     2019-05-02 18:20:00       True     True  False   \n",
       "freq                      3      17836    30024  25346   \n",
       "\n",
       "                                               photoUrl  \\\n",
       "count                                              2389   \n",
       "unique                                             2378   \n",
       "top     https://pbs.twimg.com/media/C16cvwrUkAEvjtc.jpg   \n",
       "freq                                                  4   \n",
       "\n",
       "                                                     text topicName  \\\n",
       "count                                               30024     30024   \n",
       "unique                                              30021         1   \n",
       "top     Google spent 10 years researching what makes t...  Business   \n",
       "freq                                                    2     30024   \n",
       "\n",
       "           usName                                           videoUrl  \n",
       "count       30024                                               7184  \n",
       "unique        449                                               3262  \n",
       "top     Bloomberg  https://video.twimg.com/amplify_video/11008289...  \n",
       "freq        11467                                                 14  "
      ]
     },
     "execution_count": 14,
     "metadata": {},
     "output_type": "execute_result"
    }
   ],
   "source": [
    "df_tweets.describe(exclude='int64')"
   ]
  },
  {
   "cell_type": "markdown",
   "metadata": {},
   "source": [
    "Observation: The count for *photoUrl* and *videoUrl* is less than the number of rows - these columns have missing values. While photos and videos will not be used as features in the present exercise, just the presence of absence of an associated photo or video may be associated with the human editor's classification. We will replace the photo and video URL column with a 0 if there is no URL and a 1 if there is a URL."
   ]
  },
  {
   "cell_type": "markdown",
   "metadata": {},
   "source": [
    "### Modify photo column to indicate if a photo is available. Same for video column."
   ]
  },
  {
   "cell_type": "code",
   "execution_count": 15,
   "metadata": {},
   "outputs": [],
   "source": [
    "df_tweets[['photoUrl', 'videoUrl']] = np.where(df_tweets[['photoUrl', 'videoUrl']].isnull(), np.int64(0), np.int64(1))"
   ]
  },
  {
   "cell_type": "code",
   "execution_count": 16,
   "metadata": {},
   "outputs": [
    {
     "data": {
      "text/html": [
       "<div>\n",
       "<style scoped>\n",
       "    .dataframe tbody tr th:only-of-type {\n",
       "        vertical-align: middle;\n",
       "    }\n",
       "\n",
       "    .dataframe tbody tr th {\n",
       "        vertical-align: top;\n",
       "    }\n",
       "\n",
       "    .dataframe thead th {\n",
       "        text-align: right;\n",
       "    }\n",
       "</style>\n",
       "<table border=\"1\" class=\"dataframe\">\n",
       "  <thead>\n",
       "    <tr style=\"text-align: right;\">\n",
       "      <th></th>\n",
       "      <th>tweetID</th>\n",
       "      <th>edInput</th>\n",
       "      <th>editor</th>\n",
       "      <th>engages</th>\n",
       "      <th>likes</th>\n",
       "      <th>photoUrl</th>\n",
       "      <th>retweets</th>\n",
       "      <th>rtUsID</th>\n",
       "      <th>usFlwrs</th>\n",
       "      <th>usID</th>\n",
       "      <th>videoUrl</th>\n",
       "    </tr>\n",
       "  </thead>\n",
       "  <tbody>\n",
       "    <tr>\n",
       "      <th>count</th>\n",
       "      <td>3.002400e+04</td>\n",
       "      <td>30024.000000</td>\n",
       "      <td>30024.000000</td>\n",
       "      <td>30024.000000</td>\n",
       "      <td>30024.000000</td>\n",
       "      <td>30024.00000</td>\n",
       "      <td>30024.000000</td>\n",
       "      <td>3.002400e+04</td>\n",
       "      <td>3.002400e+04</td>\n",
       "      <td>3.002400e+04</td>\n",
       "      <td>30024.000000</td>\n",
       "    </tr>\n",
       "    <tr>\n",
       "      <th>mean</th>\n",
       "      <td>1.126049e+18</td>\n",
       "      <td>1.405942</td>\n",
       "      <td>5004.619271</td>\n",
       "      <td>216.237443</td>\n",
       "      <td>151.575373</td>\n",
       "      <td>0.07957</td>\n",
       "      <td>64.662070</td>\n",
       "      <td>5.333473e+06</td>\n",
       "      <td>3.603612e+06</td>\n",
       "      <td>9.435653e+15</td>\n",
       "      <td>0.239275</td>\n",
       "    </tr>\n",
       "    <tr>\n",
       "      <th>std</th>\n",
       "      <td>1.608622e+16</td>\n",
       "      <td>0.491082</td>\n",
       "      <td>1.460386</td>\n",
       "      <td>3005.523592</td>\n",
       "      <td>2402.731659</td>\n",
       "      <td>0.27063</td>\n",
       "      <td>632.124796</td>\n",
       "      <td>5.389986e+07</td>\n",
       "      <td>2.654004e+06</td>\n",
       "      <td>9.051669e+16</td>\n",
       "      <td>0.426648</td>\n",
       "    </tr>\n",
       "    <tr>\n",
       "      <th>min</th>\n",
       "      <td>1.072759e+18</td>\n",
       "      <td>1.000000</td>\n",
       "      <td>5001.000000</td>\n",
       "      <td>1.000000</td>\n",
       "      <td>0.000000</td>\n",
       "      <td>0.00000</td>\n",
       "      <td>0.000000</td>\n",
       "      <td>-1.000000e+00</td>\n",
       "      <td>1.870000e+02</td>\n",
       "      <td>7.673960e+05</td>\n",
       "      <td>0.000000</td>\n",
       "    </tr>\n",
       "    <tr>\n",
       "      <th>25%</th>\n",
       "      <td>1.111217e+18</td>\n",
       "      <td>1.000000</td>\n",
       "      <td>5004.000000</td>\n",
       "      <td>49.000000</td>\n",
       "      <td>31.000000</td>\n",
       "      <td>0.00000</td>\n",
       "      <td>17.000000</td>\n",
       "      <td>-1.000000e+00</td>\n",
       "      <td>2.574673e+06</td>\n",
       "      <td>2.056264e+07</td>\n",
       "      <td>0.000000</td>\n",
       "    </tr>\n",
       "    <tr>\n",
       "      <th>50%</th>\n",
       "      <td>1.125888e+18</td>\n",
       "      <td>1.000000</td>\n",
       "      <td>5004.000000</td>\n",
       "      <td>73.000000</td>\n",
       "      <td>47.000000</td>\n",
       "      <td>0.00000</td>\n",
       "      <td>26.000000</td>\n",
       "      <td>-1.000000e+00</td>\n",
       "      <td>2.723230e+06</td>\n",
       "      <td>3.471336e+07</td>\n",
       "      <td>0.000000</td>\n",
       "    </tr>\n",
       "    <tr>\n",
       "      <th>75%</th>\n",
       "      <td>1.140068e+18</td>\n",
       "      <td>2.000000</td>\n",
       "      <td>5004.000000</td>\n",
       "      <td>133.000000</td>\n",
       "      <td>87.000000</td>\n",
       "      <td>0.00000</td>\n",
       "      <td>47.000000</td>\n",
       "      <td>-1.000000e+00</td>\n",
       "      <td>5.317818e+06</td>\n",
       "      <td>3.471336e+07</td>\n",
       "      <td>0.000000</td>\n",
       "    </tr>\n",
       "    <tr>\n",
       "      <th>max</th>\n",
       "      <td>1.154172e+18</td>\n",
       "      <td>2.000000</td>\n",
       "      <td>5008.000000</td>\n",
       "      <td>244498.000000</td>\n",
       "      <td>202056.000000</td>\n",
       "      <td>1.00000</td>\n",
       "      <td>56654.000000</td>\n",
       "      <td>3.333216e+09</td>\n",
       "      <td>6.221739e+07</td>\n",
       "      <td>1.067219e+18</td>\n",
       "      <td>1.000000</td>\n",
       "    </tr>\n",
       "  </tbody>\n",
       "</table>\n",
       "</div>"
      ],
      "text/plain": [
       "            tweetID       edInput        editor        engages          likes  \\\n",
       "count  3.002400e+04  30024.000000  30024.000000   30024.000000   30024.000000   \n",
       "mean   1.126049e+18      1.405942   5004.619271     216.237443     151.575373   \n",
       "std    1.608622e+16      0.491082      1.460386    3005.523592    2402.731659   \n",
       "min    1.072759e+18      1.000000   5001.000000       1.000000       0.000000   \n",
       "25%    1.111217e+18      1.000000   5004.000000      49.000000      31.000000   \n",
       "50%    1.125888e+18      1.000000   5004.000000      73.000000      47.000000   \n",
       "75%    1.140068e+18      2.000000   5004.000000     133.000000      87.000000   \n",
       "max    1.154172e+18      2.000000   5008.000000  244498.000000  202056.000000   \n",
       "\n",
       "          photoUrl      retweets        rtUsID       usFlwrs          usID  \\\n",
       "count  30024.00000  30024.000000  3.002400e+04  3.002400e+04  3.002400e+04   \n",
       "mean       0.07957     64.662070  5.333473e+06  3.603612e+06  9.435653e+15   \n",
       "std        0.27063    632.124796  5.389986e+07  2.654004e+06  9.051669e+16   \n",
       "min        0.00000      0.000000 -1.000000e+00  1.870000e+02  7.673960e+05   \n",
       "25%        0.00000     17.000000 -1.000000e+00  2.574673e+06  2.056264e+07   \n",
       "50%        0.00000     26.000000 -1.000000e+00  2.723230e+06  3.471336e+07   \n",
       "75%        0.00000     47.000000 -1.000000e+00  5.317818e+06  3.471336e+07   \n",
       "max        1.00000  56654.000000  3.333216e+09  6.221739e+07  1.067219e+18   \n",
       "\n",
       "           videoUrl  \n",
       "count  30024.000000  \n",
       "mean       0.239275  \n",
       "std        0.426648  \n",
       "min        0.000000  \n",
       "25%        0.000000  \n",
       "50%        0.000000  \n",
       "75%        0.000000  \n",
       "max        1.000000  "
      ]
     },
     "execution_count": 16,
     "metadata": {},
     "output_type": "execute_result"
    }
   ],
   "source": [
    "df_tweets.describe(include='int64')"
   ]
  },
  {
   "cell_type": "markdown",
   "metadata": {},
   "source": [
    "Observations:\n",
    "1. 8% of the rows have a photo;\n",
    "2. 24% of the rows have a video."
   ]
  },
  {
   "cell_type": "markdown",
   "metadata": {},
   "source": [
    "### Check the remaining non-numeric columns"
   ]
  },
  {
   "cell_type": "code",
   "execution_count": 17,
   "metadata": {},
   "outputs": [
    {
     "data": {
      "text/html": [
       "<div>\n",
       "<style scoped>\n",
       "    .dataframe tbody tr th:only-of-type {\n",
       "        vertical-align: middle;\n",
       "    }\n",
       "\n",
       "    .dataframe tbody tr th {\n",
       "        vertical-align: top;\n",
       "    }\n",
       "\n",
       "    .dataframe thead th {\n",
       "        text-align: right;\n",
       "    }\n",
       "</style>\n",
       "<table border=\"1\" class=\"dataframe\">\n",
       "  <thead>\n",
       "    <tr style=\"text-align: right;\">\n",
       "      <th></th>\n",
       "      <th>crDate</th>\n",
       "      <th>isApproved</th>\n",
       "      <th>isEdNeed</th>\n",
       "      <th>isRT</th>\n",
       "      <th>text</th>\n",
       "      <th>topicName</th>\n",
       "      <th>usName</th>\n",
       "    </tr>\n",
       "  </thead>\n",
       "  <tbody>\n",
       "    <tr>\n",
       "      <th>count</th>\n",
       "      <td>30024</td>\n",
       "      <td>30024</td>\n",
       "      <td>30024</td>\n",
       "      <td>30024</td>\n",
       "      <td>30024</td>\n",
       "      <td>30024</td>\n",
       "      <td>30024</td>\n",
       "    </tr>\n",
       "    <tr>\n",
       "      <th>unique</th>\n",
       "      <td>29838</td>\n",
       "      <td>2</td>\n",
       "      <td>1</td>\n",
       "      <td>2</td>\n",
       "      <td>30021</td>\n",
       "      <td>1</td>\n",
       "      <td>449</td>\n",
       "    </tr>\n",
       "    <tr>\n",
       "      <th>top</th>\n",
       "      <td>2019-05-02 18:20:00</td>\n",
       "      <td>True</td>\n",
       "      <td>True</td>\n",
       "      <td>False</td>\n",
       "      <td>Google spent 10 years researching what makes t...</td>\n",
       "      <td>Business</td>\n",
       "      <td>Bloomberg</td>\n",
       "    </tr>\n",
       "    <tr>\n",
       "      <th>freq</th>\n",
       "      <td>3</td>\n",
       "      <td>17836</td>\n",
       "      <td>30024</td>\n",
       "      <td>25346</td>\n",
       "      <td>2</td>\n",
       "      <td>30024</td>\n",
       "      <td>11467</td>\n",
       "    </tr>\n",
       "  </tbody>\n",
       "</table>\n",
       "</div>"
      ],
      "text/plain": [
       "                     crDate isApproved isEdNeed   isRT  \\\n",
       "count                 30024      30024    30024  30024   \n",
       "unique                29838          2        1      2   \n",
       "top     2019-05-02 18:20:00       True     True  False   \n",
       "freq                      3      17836    30024  25346   \n",
       "\n",
       "                                                     text topicName     usName  \n",
       "count                                               30024     30024      30024  \n",
       "unique                                              30021         1        449  \n",
       "top     Google spent 10 years researching what makes t...  Business  Bloomberg  \n",
       "freq                                                    2     30024      11467  "
      ]
     },
     "execution_count": 17,
     "metadata": {},
     "output_type": "execute_result"
    }
   ],
   "source": [
    "df_tweets.describe(exclude='int64')"
   ]
  },
  {
   "cell_type": "markdown",
   "metadata": {},
   "source": [
    "Observations about remaining non-numeric columns:\n",
    "1. No missing entries in any of the columns;\n",
    "2. The *topicName* column only has one entry ('Business'), as expected. This column can be dropped;\n",
    "3. The *isEdNeed* column has only one entry ('True'). This will not add any information for the modeling, and can be dropped;\n",
    "4. What does *isApproved* mean? It is boolean, and should be converted to 1/0 so it can be used in modeling.\n",
    "5. What does *isRT* mean? It is boolean, and should be converted to 1/0 so it can be used in modeling."
   ]
  },
  {
   "cell_type": "markdown",
   "metadata": {},
   "source": [
    "### Drop the *topicName* and *isEdNeed* columns"
   ]
  },
  {
   "cell_type": "code",
   "execution_count": 18,
   "metadata": {},
   "outputs": [],
   "source": [
    "df_tweets.drop(columns=['topicName', 'isEdNeed'], inplace=True)"
   ]
  },
  {
   "cell_type": "markdown",
   "metadata": {},
   "source": [
    "### Convert *isRT* and *isApproved* from `bool` to `int`"
   ]
  },
  {
   "cell_type": "code",
   "execution_count": 19,
   "metadata": {},
   "outputs": [],
   "source": [
    "df_tweets[['isApproved', 'isRT']] = np.where(df_tweets[['isApproved', 'isRT']] == True, np.int64(1), np.int64(0))"
   ]
  },
  {
   "cell_type": "code",
   "execution_count": 20,
   "metadata": {
    "scrolled": true
   },
   "outputs": [
    {
     "data": {
      "text/html": [
       "<div>\n",
       "<style scoped>\n",
       "    .dataframe tbody tr th:only-of-type {\n",
       "        vertical-align: middle;\n",
       "    }\n",
       "\n",
       "    .dataframe tbody tr th {\n",
       "        vertical-align: top;\n",
       "    }\n",
       "\n",
       "    .dataframe thead th {\n",
       "        text-align: right;\n",
       "    }\n",
       "</style>\n",
       "<table border=\"1\" class=\"dataframe\">\n",
       "  <thead>\n",
       "    <tr style=\"text-align: right;\">\n",
       "      <th></th>\n",
       "      <th>tweetID</th>\n",
       "      <th>edInput</th>\n",
       "      <th>editor</th>\n",
       "      <th>engages</th>\n",
       "      <th>isApproved</th>\n",
       "      <th>isRT</th>\n",
       "      <th>likes</th>\n",
       "      <th>photoUrl</th>\n",
       "      <th>retweets</th>\n",
       "      <th>rtUsID</th>\n",
       "      <th>usFlwrs</th>\n",
       "      <th>usID</th>\n",
       "      <th>videoUrl</th>\n",
       "    </tr>\n",
       "  </thead>\n",
       "  <tbody>\n",
       "    <tr>\n",
       "      <th>count</th>\n",
       "      <td>3.002400e+04</td>\n",
       "      <td>30024.000000</td>\n",
       "      <td>30024.000000</td>\n",
       "      <td>30024.000000</td>\n",
       "      <td>30024.000000</td>\n",
       "      <td>30024.000000</td>\n",
       "      <td>30024.000000</td>\n",
       "      <td>30024.00000</td>\n",
       "      <td>30024.000000</td>\n",
       "      <td>3.002400e+04</td>\n",
       "      <td>3.002400e+04</td>\n",
       "      <td>3.002400e+04</td>\n",
       "      <td>30024.000000</td>\n",
       "    </tr>\n",
       "    <tr>\n",
       "      <th>mean</th>\n",
       "      <td>1.126049e+18</td>\n",
       "      <td>1.405942</td>\n",
       "      <td>5004.619271</td>\n",
       "      <td>216.237443</td>\n",
       "      <td>0.594058</td>\n",
       "      <td>0.155809</td>\n",
       "      <td>151.575373</td>\n",
       "      <td>0.07957</td>\n",
       "      <td>64.662070</td>\n",
       "      <td>5.333473e+06</td>\n",
       "      <td>3.603612e+06</td>\n",
       "      <td>9.435653e+15</td>\n",
       "      <td>0.239275</td>\n",
       "    </tr>\n",
       "    <tr>\n",
       "      <th>std</th>\n",
       "      <td>1.608622e+16</td>\n",
       "      <td>0.491082</td>\n",
       "      <td>1.460386</td>\n",
       "      <td>3005.523592</td>\n",
       "      <td>0.491082</td>\n",
       "      <td>0.362680</td>\n",
       "      <td>2402.731659</td>\n",
       "      <td>0.27063</td>\n",
       "      <td>632.124796</td>\n",
       "      <td>5.389986e+07</td>\n",
       "      <td>2.654004e+06</td>\n",
       "      <td>9.051669e+16</td>\n",
       "      <td>0.426648</td>\n",
       "    </tr>\n",
       "    <tr>\n",
       "      <th>min</th>\n",
       "      <td>1.072759e+18</td>\n",
       "      <td>1.000000</td>\n",
       "      <td>5001.000000</td>\n",
       "      <td>1.000000</td>\n",
       "      <td>0.000000</td>\n",
       "      <td>0.000000</td>\n",
       "      <td>0.000000</td>\n",
       "      <td>0.00000</td>\n",
       "      <td>0.000000</td>\n",
       "      <td>-1.000000e+00</td>\n",
       "      <td>1.870000e+02</td>\n",
       "      <td>7.673960e+05</td>\n",
       "      <td>0.000000</td>\n",
       "    </tr>\n",
       "    <tr>\n",
       "      <th>25%</th>\n",
       "      <td>1.111217e+18</td>\n",
       "      <td>1.000000</td>\n",
       "      <td>5004.000000</td>\n",
       "      <td>49.000000</td>\n",
       "      <td>0.000000</td>\n",
       "      <td>0.000000</td>\n",
       "      <td>31.000000</td>\n",
       "      <td>0.00000</td>\n",
       "      <td>17.000000</td>\n",
       "      <td>-1.000000e+00</td>\n",
       "      <td>2.574673e+06</td>\n",
       "      <td>2.056264e+07</td>\n",
       "      <td>0.000000</td>\n",
       "    </tr>\n",
       "    <tr>\n",
       "      <th>50%</th>\n",
       "      <td>1.125888e+18</td>\n",
       "      <td>1.000000</td>\n",
       "      <td>5004.000000</td>\n",
       "      <td>73.000000</td>\n",
       "      <td>1.000000</td>\n",
       "      <td>0.000000</td>\n",
       "      <td>47.000000</td>\n",
       "      <td>0.00000</td>\n",
       "      <td>26.000000</td>\n",
       "      <td>-1.000000e+00</td>\n",
       "      <td>2.723230e+06</td>\n",
       "      <td>3.471336e+07</td>\n",
       "      <td>0.000000</td>\n",
       "    </tr>\n",
       "    <tr>\n",
       "      <th>75%</th>\n",
       "      <td>1.140068e+18</td>\n",
       "      <td>2.000000</td>\n",
       "      <td>5004.000000</td>\n",
       "      <td>133.000000</td>\n",
       "      <td>1.000000</td>\n",
       "      <td>0.000000</td>\n",
       "      <td>87.000000</td>\n",
       "      <td>0.00000</td>\n",
       "      <td>47.000000</td>\n",
       "      <td>-1.000000e+00</td>\n",
       "      <td>5.317818e+06</td>\n",
       "      <td>3.471336e+07</td>\n",
       "      <td>0.000000</td>\n",
       "    </tr>\n",
       "    <tr>\n",
       "      <th>max</th>\n",
       "      <td>1.154172e+18</td>\n",
       "      <td>2.000000</td>\n",
       "      <td>5008.000000</td>\n",
       "      <td>244498.000000</td>\n",
       "      <td>1.000000</td>\n",
       "      <td>1.000000</td>\n",
       "      <td>202056.000000</td>\n",
       "      <td>1.00000</td>\n",
       "      <td>56654.000000</td>\n",
       "      <td>3.333216e+09</td>\n",
       "      <td>6.221739e+07</td>\n",
       "      <td>1.067219e+18</td>\n",
       "      <td>1.000000</td>\n",
       "    </tr>\n",
       "  </tbody>\n",
       "</table>\n",
       "</div>"
      ],
      "text/plain": [
       "            tweetID       edInput        editor        engages    isApproved  \\\n",
       "count  3.002400e+04  30024.000000  30024.000000   30024.000000  30024.000000   \n",
       "mean   1.126049e+18      1.405942   5004.619271     216.237443      0.594058   \n",
       "std    1.608622e+16      0.491082      1.460386    3005.523592      0.491082   \n",
       "min    1.072759e+18      1.000000   5001.000000       1.000000      0.000000   \n",
       "25%    1.111217e+18      1.000000   5004.000000      49.000000      0.000000   \n",
       "50%    1.125888e+18      1.000000   5004.000000      73.000000      1.000000   \n",
       "75%    1.140068e+18      2.000000   5004.000000     133.000000      1.000000   \n",
       "max    1.154172e+18      2.000000   5008.000000  244498.000000      1.000000   \n",
       "\n",
       "               isRT          likes     photoUrl      retweets        rtUsID  \\\n",
       "count  30024.000000   30024.000000  30024.00000  30024.000000  3.002400e+04   \n",
       "mean       0.155809     151.575373      0.07957     64.662070  5.333473e+06   \n",
       "std        0.362680    2402.731659      0.27063    632.124796  5.389986e+07   \n",
       "min        0.000000       0.000000      0.00000      0.000000 -1.000000e+00   \n",
       "25%        0.000000      31.000000      0.00000     17.000000 -1.000000e+00   \n",
       "50%        0.000000      47.000000      0.00000     26.000000 -1.000000e+00   \n",
       "75%        0.000000      87.000000      0.00000     47.000000 -1.000000e+00   \n",
       "max        1.000000  202056.000000      1.00000  56654.000000  3.333216e+09   \n",
       "\n",
       "            usFlwrs          usID      videoUrl  \n",
       "count  3.002400e+04  3.002400e+04  30024.000000  \n",
       "mean   3.603612e+06  9.435653e+15      0.239275  \n",
       "std    2.654004e+06  9.051669e+16      0.426648  \n",
       "min    1.870000e+02  7.673960e+05      0.000000  \n",
       "25%    2.574673e+06  2.056264e+07      0.000000  \n",
       "50%    2.723230e+06  3.471336e+07      0.000000  \n",
       "75%    5.317818e+06  3.471336e+07      0.000000  \n",
       "max    6.221739e+07  1.067219e+18      1.000000  "
      ]
     },
     "execution_count": 20,
     "metadata": {},
     "output_type": "execute_result"
    }
   ],
   "source": [
    "df_tweets.describe(include='int64')"
   ]
  },
  {
   "cell_type": "code",
   "execution_count": 21,
   "metadata": {},
   "outputs": [
    {
     "data": {
      "text/html": [
       "<div>\n",
       "<style scoped>\n",
       "    .dataframe tbody tr th:only-of-type {\n",
       "        vertical-align: middle;\n",
       "    }\n",
       "\n",
       "    .dataframe tbody tr th {\n",
       "        vertical-align: top;\n",
       "    }\n",
       "\n",
       "    .dataframe thead th {\n",
       "        text-align: right;\n",
       "    }\n",
       "</style>\n",
       "<table border=\"1\" class=\"dataframe\">\n",
       "  <thead>\n",
       "    <tr style=\"text-align: right;\">\n",
       "      <th></th>\n",
       "      <th>crDate</th>\n",
       "      <th>text</th>\n",
       "      <th>usName</th>\n",
       "    </tr>\n",
       "  </thead>\n",
       "  <tbody>\n",
       "    <tr>\n",
       "      <th>count</th>\n",
       "      <td>30024</td>\n",
       "      <td>30024</td>\n",
       "      <td>30024</td>\n",
       "    </tr>\n",
       "    <tr>\n",
       "      <th>unique</th>\n",
       "      <td>29838</td>\n",
       "      <td>30021</td>\n",
       "      <td>449</td>\n",
       "    </tr>\n",
       "    <tr>\n",
       "      <th>top</th>\n",
       "      <td>2019-05-02 18:20:00</td>\n",
       "      <td>Google spent 10 years researching what makes t...</td>\n",
       "      <td>Bloomberg</td>\n",
       "    </tr>\n",
       "    <tr>\n",
       "      <th>freq</th>\n",
       "      <td>3</td>\n",
       "      <td>2</td>\n",
       "      <td>11467</td>\n",
       "    </tr>\n",
       "  </tbody>\n",
       "</table>\n",
       "</div>"
      ],
      "text/plain": [
       "                     crDate  \\\n",
       "count                 30024   \n",
       "unique                29838   \n",
       "top     2019-05-02 18:20:00   \n",
       "freq                      3   \n",
       "\n",
       "                                                     text     usName  \n",
       "count                                               30024      30024  \n",
       "unique                                              30021        449  \n",
       "top     Google spent 10 years researching what makes t...  Bloomberg  \n",
       "freq                                                    2      11467  "
      ]
     },
     "execution_count": 21,
     "metadata": {},
     "output_type": "execute_result"
    }
   ],
   "source": [
    "df_tweets.describe(exclude='int64')"
   ]
  },
  {
   "cell_type": "markdown",
   "metadata": {},
   "source": [
    "There are 30,024 rows, but only 30,021 unique entries in the text column. There must be three duplicates. They may have been missed being marked as *edInput* = 4."
   ]
  },
  {
   "cell_type": "code",
   "execution_count": 22,
   "metadata": {},
   "outputs": [],
   "source": [
    "duplicated_text = df_tweets[df_tweets.duplicated(subset='text')]['text']"
   ]
  },
  {
   "cell_type": "code",
   "execution_count": 23,
   "metadata": {},
   "outputs": [
    {
     "data": {
      "text/html": [
       "<div>\n",
       "<style scoped>\n",
       "    .dataframe tbody tr th:only-of-type {\n",
       "        vertical-align: middle;\n",
       "    }\n",
       "\n",
       "    .dataframe tbody tr th {\n",
       "        vertical-align: top;\n",
       "    }\n",
       "\n",
       "    .dataframe thead th {\n",
       "        text-align: right;\n",
       "    }\n",
       "</style>\n",
       "<table border=\"1\" class=\"dataframe\">\n",
       "  <thead>\n",
       "    <tr style=\"text-align: right;\">\n",
       "      <th></th>\n",
       "      <th>tweetID</th>\n",
       "      <th>crDate</th>\n",
       "      <th>edInput</th>\n",
       "      <th>editor</th>\n",
       "      <th>engages</th>\n",
       "      <th>isApproved</th>\n",
       "      <th>isRT</th>\n",
       "      <th>likes</th>\n",
       "      <th>photoUrl</th>\n",
       "      <th>retweets</th>\n",
       "      <th>rtUsID</th>\n",
       "      <th>text</th>\n",
       "      <th>usFlwrs</th>\n",
       "      <th>usID</th>\n",
       "      <th>usName</th>\n",
       "      <th>videoUrl</th>\n",
       "    </tr>\n",
       "  </thead>\n",
       "  <tbody>\n",
       "    <tr>\n",
       "      <th>492751</th>\n",
       "      <td>1127166284746063872</td>\n",
       "      <td>2019-05-11 10:59:18</td>\n",
       "      <td>1</td>\n",
       "      <td>5004</td>\n",
       "      <td>97</td>\n",
       "      <td>1</td>\n",
       "      <td>0</td>\n",
       "      <td>74</td>\n",
       "      <td>0</td>\n",
       "      <td>23</td>\n",
       "      <td>-1</td>\n",
       "      <td>Better management can change everything.\\n#Web...</td>\n",
       "      <td>5415471</td>\n",
       "      <td>14800270</td>\n",
       "      <td>Harvard Biz Review</td>\n",
       "      <td>0</td>\n",
       "    </tr>\n",
       "    <tr>\n",
       "      <th>500909</th>\n",
       "      <td>1128080017681014784</td>\n",
       "      <td>2019-05-13 23:30:09</td>\n",
       "      <td>1</td>\n",
       "      <td>5004</td>\n",
       "      <td>59</td>\n",
       "      <td>1</td>\n",
       "      <td>0</td>\n",
       "      <td>43</td>\n",
       "      <td>0</td>\n",
       "      <td>16</td>\n",
       "      <td>-1</td>\n",
       "      <td>Better management can change everything.\\n#Web...</td>\n",
       "      <td>5415503</td>\n",
       "      <td>14800270</td>\n",
       "      <td>Harvard Biz Review</td>\n",
       "      <td>0</td>\n",
       "    </tr>\n",
       "  </tbody>\n",
       "</table>\n",
       "</div>"
      ],
      "text/plain": [
       "                    tweetID               crDate  edInput  editor  engages  \\\n",
       "492751  1127166284746063872  2019-05-11 10:59:18        1    5004       97   \n",
       "500909  1128080017681014784  2019-05-13 23:30:09        1    5004       59   \n",
       "\n",
       "        isApproved  isRT  likes  photoUrl  retweets  rtUsID  \\\n",
       "492751           1     0     74         0        23      -1   \n",
       "500909           1     0     43         0        16      -1   \n",
       "\n",
       "                                                     text  usFlwrs      usID  \\\n",
       "492751  Better management can change everything.\\n#Web...  5415471  14800270   \n",
       "500909  Better management can change everything.\\n#Web...  5415503  14800270   \n",
       "\n",
       "                    usName  videoUrl  \n",
       "492751  Harvard Biz Review         0  \n",
       "500909  Harvard Biz Review         0  "
      ]
     },
     "execution_count": 23,
     "metadata": {},
     "output_type": "execute_result"
    }
   ],
   "source": [
    "df_tweets[df_tweets['text'] == duplicated_text.values[0]]"
   ]
  },
  {
   "cell_type": "code",
   "execution_count": 24,
   "metadata": {},
   "outputs": [
    {
     "data": {
      "text/html": [
       "<div>\n",
       "<style scoped>\n",
       "    .dataframe tbody tr th:only-of-type {\n",
       "        vertical-align: middle;\n",
       "    }\n",
       "\n",
       "    .dataframe tbody tr th {\n",
       "        vertical-align: top;\n",
       "    }\n",
       "\n",
       "    .dataframe thead th {\n",
       "        text-align: right;\n",
       "    }\n",
       "</style>\n",
       "<table border=\"1\" class=\"dataframe\">\n",
       "  <thead>\n",
       "    <tr style=\"text-align: right;\">\n",
       "      <th></th>\n",
       "      <th>tweetID</th>\n",
       "      <th>crDate</th>\n",
       "      <th>edInput</th>\n",
       "      <th>editor</th>\n",
       "      <th>engages</th>\n",
       "      <th>isApproved</th>\n",
       "      <th>isRT</th>\n",
       "      <th>likes</th>\n",
       "      <th>photoUrl</th>\n",
       "      <th>retweets</th>\n",
       "      <th>rtUsID</th>\n",
       "      <th>text</th>\n",
       "      <th>usFlwrs</th>\n",
       "      <th>usID</th>\n",
       "      <th>usName</th>\n",
       "      <th>videoUrl</th>\n",
       "    </tr>\n",
       "  </thead>\n",
       "  <tbody>\n",
       "    <tr>\n",
       "      <th>641896</th>\n",
       "      <td>1142131119770546181</td>\n",
       "      <td>2019-06-21 18:04:13</td>\n",
       "      <td>1</td>\n",
       "      <td>5008</td>\n",
       "      <td>62</td>\n",
       "      <td>1</td>\n",
       "      <td>0</td>\n",
       "      <td>42</td>\n",
       "      <td>0</td>\n",
       "      <td>20</td>\n",
       "      <td>-1</td>\n",
       "      <td>8 predictions made by Amazon CEO Jeff Bezos 20...</td>\n",
       "      <td>2627639</td>\n",
       "      <td>20562637</td>\n",
       "      <td>Business Insider</td>\n",
       "      <td>0</td>\n",
       "    </tr>\n",
       "    <tr>\n",
       "      <th>733436</th>\n",
       "      <td>1150086008433717250</td>\n",
       "      <td>2019-07-13 16:54:06</td>\n",
       "      <td>1</td>\n",
       "      <td>5008</td>\n",
       "      <td>60</td>\n",
       "      <td>1</td>\n",
       "      <td>0</td>\n",
       "      <td>43</td>\n",
       "      <td>0</td>\n",
       "      <td>17</td>\n",
       "      <td>-1</td>\n",
       "      <td>8 predictions made by Amazon CEO Jeff Bezos 20...</td>\n",
       "      <td>2642488</td>\n",
       "      <td>20562637</td>\n",
       "      <td>Business Insider</td>\n",
       "      <td>0</td>\n",
       "    </tr>\n",
       "  </tbody>\n",
       "</table>\n",
       "</div>"
      ],
      "text/plain": [
       "                    tweetID               crDate  edInput  editor  engages  \\\n",
       "641896  1142131119770546181  2019-06-21 18:04:13        1    5008       62   \n",
       "733436  1150086008433717250  2019-07-13 16:54:06        1    5008       60   \n",
       "\n",
       "        isApproved  isRT  likes  photoUrl  retweets  rtUsID  \\\n",
       "641896           1     0     42         0        20      -1   \n",
       "733436           1     0     43         0        17      -1   \n",
       "\n",
       "                                                     text  usFlwrs      usID  \\\n",
       "641896  8 predictions made by Amazon CEO Jeff Bezos 20...  2627639  20562637   \n",
       "733436  8 predictions made by Amazon CEO Jeff Bezos 20...  2642488  20562637   \n",
       "\n",
       "                  usName  videoUrl  \n",
       "641896  Business Insider         0  \n",
       "733436  Business Insider         0  "
      ]
     },
     "execution_count": 24,
     "metadata": {},
     "output_type": "execute_result"
    }
   ],
   "source": [
    "df_tweets[df_tweets['text'] == duplicated_text.values[1]]"
   ]
  },
  {
   "cell_type": "code",
   "execution_count": 25,
   "metadata": {},
   "outputs": [
    {
     "data": {
      "text/html": [
       "<div>\n",
       "<style scoped>\n",
       "    .dataframe tbody tr th:only-of-type {\n",
       "        vertical-align: middle;\n",
       "    }\n",
       "\n",
       "    .dataframe tbody tr th {\n",
       "        vertical-align: top;\n",
       "    }\n",
       "\n",
       "    .dataframe thead th {\n",
       "        text-align: right;\n",
       "    }\n",
       "</style>\n",
       "<table border=\"1\" class=\"dataframe\">\n",
       "  <thead>\n",
       "    <tr style=\"text-align: right;\">\n",
       "      <th></th>\n",
       "      <th>tweetID</th>\n",
       "      <th>crDate</th>\n",
       "      <th>edInput</th>\n",
       "      <th>editor</th>\n",
       "      <th>engages</th>\n",
       "      <th>isApproved</th>\n",
       "      <th>isRT</th>\n",
       "      <th>likes</th>\n",
       "      <th>photoUrl</th>\n",
       "      <th>retweets</th>\n",
       "      <th>rtUsID</th>\n",
       "      <th>text</th>\n",
       "      <th>usFlwrs</th>\n",
       "      <th>usID</th>\n",
       "      <th>usName</th>\n",
       "      <th>videoUrl</th>\n",
       "    </tr>\n",
       "  </thead>\n",
       "  <tbody>\n",
       "    <tr>\n",
       "      <th>651002</th>\n",
       "      <td>1143117897495130114</td>\n",
       "      <td>2019-06-24 11:25:19</td>\n",
       "      <td>1</td>\n",
       "      <td>5008</td>\n",
       "      <td>403</td>\n",
       "      <td>1</td>\n",
       "      <td>0</td>\n",
       "      <td>275</td>\n",
       "      <td>0</td>\n",
       "      <td>128</td>\n",
       "      <td>-1</td>\n",
       "      <td>Google spent 10 years researching what makes t...</td>\n",
       "      <td>2629490</td>\n",
       "      <td>20562637</td>\n",
       "      <td>Business Insider</td>\n",
       "      <td>0</td>\n",
       "    </tr>\n",
       "    <tr>\n",
       "      <th>764651</th>\n",
       "      <td>1152576431827881985</td>\n",
       "      <td>2019-07-20 13:50:09</td>\n",
       "      <td>1</td>\n",
       "      <td>5008</td>\n",
       "      <td>296</td>\n",
       "      <td>1</td>\n",
       "      <td>0</td>\n",
       "      <td>202</td>\n",
       "      <td>0</td>\n",
       "      <td>94</td>\n",
       "      <td>-1</td>\n",
       "      <td>Google spent 10 years researching what makes t...</td>\n",
       "      <td>2647332</td>\n",
       "      <td>20562637</td>\n",
       "      <td>Business Insider</td>\n",
       "      <td>0</td>\n",
       "    </tr>\n",
       "  </tbody>\n",
       "</table>\n",
       "</div>"
      ],
      "text/plain": [
       "                    tweetID               crDate  edInput  editor  engages  \\\n",
       "651002  1143117897495130114  2019-06-24 11:25:19        1    5008      403   \n",
       "764651  1152576431827881985  2019-07-20 13:50:09        1    5008      296   \n",
       "\n",
       "        isApproved  isRT  likes  photoUrl  retweets  rtUsID  \\\n",
       "651002           1     0    275         0       128      -1   \n",
       "764651           1     0    202         0        94      -1   \n",
       "\n",
       "                                                     text  usFlwrs      usID  \\\n",
       "651002  Google spent 10 years researching what makes t...  2629490  20562637   \n",
       "764651  Google spent 10 years researching what makes t...  2647332  20562637   \n",
       "\n",
       "                  usName  videoUrl  \n",
       "651002  Business Insider         0  \n",
       "764651  Business Insider         0  "
      ]
     },
     "execution_count": 25,
     "metadata": {},
     "output_type": "execute_result"
    }
   ],
   "source": [
    "df_tweets[df_tweets['text'] == duplicated_text.values[2]]"
   ]
  },
  {
   "cell_type": "markdown",
   "metadata": {},
   "source": [
    "Each of the above three tweets appears twice in the data set. The *text*, *usName*, *usID* are the same within each pair. This could be handled in different ways. For example:\n",
    "1. One of the duplicate rows could be deleted;\n",
    "2. The information (*likes*, *retweets*, etc.) could be combined in some manner.\n",
    "Since there are only three out of 30,024 rows, I will leave it as it is."
   ]
  },
  {
   "cell_type": "code",
   "execution_count": 26,
   "metadata": {},
   "outputs": [
    {
     "data": {
      "text/plain": [
       "count                   30024\n",
       "unique                  29838\n",
       "top       2019-05-02 18:20:00\n",
       "freq                        3\n",
       "Name: crDate, dtype: object"
      ]
     },
     "execution_count": 26,
     "metadata": {},
     "output_type": "execute_result"
    }
   ],
   "source": [
    "df_tweets['crDate'].describe()"
   ]
  },
  {
   "cell_type": "markdown",
   "metadata": {},
   "source": [
    "### Assuming the exact timestamp is not critical, replace datetime by date"
   ]
  },
  {
   "cell_type": "code",
   "execution_count": 27,
   "metadata": {},
   "outputs": [],
   "source": [
    "df_tweets['crDate'] = pd.to_datetime(df_tweets['crDate']).dt.date"
   ]
  },
  {
   "cell_type": "code",
   "execution_count": 28,
   "metadata": {},
   "outputs": [
    {
     "data": {
      "text/plain": [
       "count          30024\n",
       "unique           162\n",
       "top       2019-04-22\n",
       "freq             348\n",
       "Name: crDate, dtype: object"
      ]
     },
     "execution_count": 28,
     "metadata": {},
     "output_type": "execute_result"
    }
   ],
   "source": [
    "df_tweets['crDate'].describe()"
   ]
  },
  {
   "cell_type": "markdown",
   "metadata": {},
   "source": [
    "### Redefine *edInput*"
   ]
  },
  {
   "cell_type": "markdown",
   "metadata": {},
   "source": [
    "One last thing - the *edInput* column contains 1s to denote correct classification and 2s to denote incorrect classification. Convert this to 1 for correct classification and 0 for incorrect classification."
   ]
  },
  {
   "cell_type": "code",
   "execution_count": 29,
   "metadata": {},
   "outputs": [],
   "source": [
    "df_tweets['edInput'] = 2 - df_tweets['edInput']"
   ]
  },
  {
   "cell_type": "markdown",
   "metadata": {},
   "source": [
    "### Check if there is a 1:1 correspondence between usID and usName"
   ]
  },
  {
   "cell_type": "code",
   "execution_count": 30,
   "metadata": {},
   "outputs": [
    {
     "name": "stdout",
     "output_type": "stream",
     "text": [
      "there are 449 unique user names and 443 unique user IDs\n"
     ]
    }
   ],
   "source": [
    "print('there are {} unique user names and {} unique user IDs'.format(df_tweets['usName'].nunique(), \n",
    "                                                                     df_tweets['usID'].nunique()))"
   ]
  },
  {
   "cell_type": "markdown",
   "metadata": {},
   "source": [
    "There are more user names than user IDs. Find out which usID have multiple associated usName:"
   ]
  },
  {
   "cell_type": "code",
   "execution_count": 31,
   "metadata": {},
   "outputs": [
    {
     "name": "stdout",
     "output_type": "stream",
     "text": [
      "usID 14800270 has 2 associated usName: ['Harvard Biz Review' 'Harvard Business Review']\n",
      "usID 252751061 has 2 associated usName: ['TicToc by Bloomberg' 'Bloomberg TicToc']\n",
      "usID 74292666 has 3 associated usName: ['Erin Brodwin 🤖' 'Erin Brodwin' 'Erin Brodwin ⚡️']\n",
      "usID 2369949012 has 2 associated usName: ['Joe Perticone' 'Joe']\n",
      "usID 26024026 has 2 associated usName: ['daniel mcmahon' 'DANIEL McMAHON']\n",
      "usID 1684471004 has 2 associated usName: ['Ashley Rodriguez' 'Ashley Rodriguez 📺']\n"
     ]
    }
   ],
   "source": [
    "for id in df_tweets['usID'].unique():\n",
    "    if df_tweets[df_tweets['usID'] == id]['usName'].nunique() != 1:\n",
    "        print('usID {} has {} associated usName: {}'.format(id, df_tweets[df_tweets['usID'] == id]['usName'].nunique(), \n",
    "                                                            df_tweets[df_tweets['usID'] == id]['usName'].unique()))"
   ]
  },
  {
   "cell_type": "markdown",
   "metadata": {},
   "source": [
    "Clean this up by assigning a uniform *usName* for each of these *usID*."
   ]
  },
  {
   "cell_type": "code",
   "execution_count": 32,
   "metadata": {},
   "outputs": [],
   "source": [
    "df_tweets.loc[(df_tweets['usID'] == 14800270), 'usName'] = 'Harvard Business Review'"
   ]
  },
  {
   "cell_type": "code",
   "execution_count": 33,
   "metadata": {},
   "outputs": [],
   "source": [
    "df_tweets.loc[(df_tweets['usID'] == 252751061), 'usName'] = 'Bloomberg TicToc'"
   ]
  },
  {
   "cell_type": "code",
   "execution_count": 34,
   "metadata": {},
   "outputs": [],
   "source": [
    "df_tweets.loc[(df_tweets['usID'] == 74292666), 'usName'] = 'Erin Brodwin'"
   ]
  },
  {
   "cell_type": "code",
   "execution_count": 35,
   "metadata": {},
   "outputs": [],
   "source": [
    "df_tweets.loc[(df_tweets['usID'] == 2369949012), 'usName'] = 'Joe Perticone'"
   ]
  },
  {
   "cell_type": "code",
   "execution_count": 36,
   "metadata": {},
   "outputs": [],
   "source": [
    "df_tweets.loc[(df_tweets['usID'] == 26024026), 'usName'] = 'DANIEL McMAHON'"
   ]
  },
  {
   "cell_type": "code",
   "execution_count": 37,
   "metadata": {},
   "outputs": [],
   "source": [
    "df_tweets.loc[(df_tweets['usID'] == 1684471004), 'usName'] = 'Ashley Rodriguez'"
   ]
  },
  {
   "cell_type": "code",
   "execution_count": 38,
   "metadata": {},
   "outputs": [
    {
     "name": "stdout",
     "output_type": "stream",
     "text": [
      "there are 442 unique user names and 443 unique user IDs\n"
     ]
    }
   ],
   "source": [
    "print('there are {} unique user names and {} unique user IDs'.format(df_tweets['usName'].nunique(), \n",
    "                                                                     df_tweets['usID'].nunique()))"
   ]
  },
  {
   "cell_type": "markdown",
   "metadata": {},
   "source": [
    "Which *usName* have more than one *usID*?"
   ]
  },
  {
   "cell_type": "code",
   "execution_count": 39,
   "metadata": {},
   "outputs": [
    {
     "name": "stdout",
     "output_type": "stream",
     "text": [
      "usName World Economic Forum has 2 associated usID: [  5120691 102700680]\n"
     ]
    }
   ],
   "source": [
    "for id in df_tweets['usName'].unique():\n",
    "    if df_tweets[df_tweets['usName'] == id]['usID'].nunique() != 1:\n",
    "        print('usName {} has {} associated usID: {}'.format(id, df_tweets[df_tweets['usName'] == id]['usID'].nunique(), \n",
    "                                                            df_tweets[df_tweets['usName'] == id]['usID'].unique()))"
   ]
  },
  {
   "cell_type": "code",
   "execution_count": 40,
   "metadata": {},
   "outputs": [
    {
     "data": {
      "text/plain": [
       "(18, 16)"
      ]
     },
     "execution_count": 40,
     "metadata": {},
     "output_type": "execute_result"
    }
   ],
   "source": [
    "df_tweets[df_tweets['usID'] == 5120691].shape"
   ]
  },
  {
   "cell_type": "code",
   "execution_count": 41,
   "metadata": {},
   "outputs": [
    {
     "data": {
      "text/plain": [
       "(1, 16)"
      ]
     },
     "execution_count": 41,
     "metadata": {},
     "output_type": "execute_result"
    }
   ],
   "source": [
    "df_tweets[df_tweets['usID'] == 102700680].shape"
   ]
  },
  {
   "cell_type": "markdown",
   "metadata": {},
   "source": [
    "I hesitate to change the *usID*. Since there is only one tweet using the second *usID*, it should not make s huge difference."
   ]
  },
  {
   "cell_type": "markdown",
   "metadata": {},
   "source": [
    "### Examine timestamps"
   ]
  },
  {
   "cell_type": "code",
   "execution_count": 42,
   "metadata": {},
   "outputs": [
    {
     "name": "stdout",
     "output_type": "stream",
     "text": [
      "timestamps range from 2018-12-12 to 2019-07-24\n"
     ]
    }
   ],
   "source": [
    "print('timestamps range from {} to {}'.format(df_tweets['crDate'].min(), df_tweets['crDate'].max()))"
   ]
  },
  {
   "cell_type": "markdown",
   "metadata": {},
   "source": [
    "Plot number of daily tweets"
   ]
  },
  {
   "cell_type": "code",
   "execution_count": 43,
   "metadata": {},
   "outputs": [
    {
     "data": {
      "image/png": "[encoded data removed]",
      "text/plain": [
       "<Figure size 1440x360 with 1 Axes>"
      ]
     },
     "metadata": {
      "needs_background": "light"
     },
     "output_type": "display_data"
    }
   ],
   "source": [
    "plt.figure(figsize=(20,5))\n",
    "plt.plot(df_tweets.groupby('crDate')['tweetID'].count())\n",
    "plt.xlabel('date')\n",
    "plt.ylabel('number of tweets');"
   ]
  },
  {
   "cell_type": "markdown",
   "metadata": {},
   "source": [
    "Observations:\n",
    "1. There are very few tweets in the data set before March 2019. Perhaps the 'Business' category was added on a trial basis at the beginning of January 2019 and on a permanent basis at the end of February 2019;\n",
    "2. There appears to be some issue with the numbers of daily tweets in the database mid-2019.\n",
    "\n",
    "In the time period with low daily tweet count, there may have been a problem with data collection/retention."
   ]
  },
  {
   "cell_type": "markdown",
   "metadata": {},
   "source": [
    "### Check for imbalance"
   ]
  },
  {
   "cell_type": "code",
   "execution_count": 44,
   "metadata": {},
   "outputs": [
    {
     "data": {
      "image/png": "[encoded data removed]",
      "text/plain": [
       "<Figure size 432x288 with 1 Axes>"
      ]
     },
     "metadata": {
      "needs_background": "light"
     },
     "output_type": "display_data"
    }
   ],
   "source": [
    "df_tweets.groupby('edInput')['edInput'].count().plot.bar()\n",
    "plt.ylabel('number of tweets')\n",
    "for index, value in enumerate(df_tweets.groupby('edInput')['edInput'].count()):\n",
    "    plt.text(index-0.1, value / 2, str(value))"
   ]
  },
  {
   "cell_type": "markdown",
   "metadata": {},
   "source": [
    "The data set is reasonably balanced: 12188 incorrect categorizations versus 17836 correct categorizations. Not so good performance by the rule-based algorithm, but a good data set for our purposes!"
   ]
  },
  {
   "cell_type": "markdown",
   "metadata": {},
   "source": [
    "### Check for patterns of correct/incorrect categorization in different columns"
   ]
  },
  {
   "cell_type": "code",
   "execution_count": 45,
   "metadata": {},
   "outputs": [
    {
     "data": {
      "image/png": "[encoded data removed]",
      "text/plain": [
       "<Figure size 432x288 with 1 Axes>"
      ]
     },
     "metadata": {
      "needs_background": "light"
     },
     "output_type": "display_data"
    }
   ],
   "source": [
    "df_tweets.groupby('photoUrl')['edInput'].mean().plot.bar()\n",
    "plt.ylabel('fraction Correct')\n",
    "for index, value in enumerate(df_tweets.groupby('photoUrl')['edInput'].mean()):\n",
    "    plt.text(index-0.1, value / 2, str(round(value, 2)))"
   ]
  },
  {
   "cell_type": "markdown",
   "metadata": {},
   "source": [
    "1. When there is a photo, 72% of the categorizations are correct;\n",
    "2. When there is no photo, 58% of the categorizations are correct."
   ]
  },
  {
   "cell_type": "code",
   "execution_count": 46,
   "metadata": {},
   "outputs": [
    {
     "data": {
      "image/png": "[encoded data removed]",
      "text/plain": [
       "<Figure size 432x288 with 1 Axes>"
      ]
     },
     "metadata": {
      "needs_background": "light"
     },
     "output_type": "display_data"
    }
   ],
   "source": [
    "df_tweets.groupby('videoUrl')['edInput'].mean().plot.bar()\n",
    "plt.ylabel('fraction Correct')\n",
    "for index, value in enumerate(df_tweets.groupby('videoUrl')['edInput'].mean()):\n",
    "    plt.text(index-0.1, value / 2, str(round(value, 2)))"
   ]
  },
  {
   "cell_type": "markdown",
   "metadata": {},
   "source": [
    "1. When there is a video, 34% of the categorizations are correct;\n",
    "2. When there is no video, 67% of the categorizations are correct."
   ]
  },
  {
   "cell_type": "code",
   "execution_count": 47,
   "metadata": {},
   "outputs": [
    {
     "data": {
      "text/plain": [
       "Text(0.5, 1.0, 'daily categorization success rate for business tweets')"
      ]
     },
     "execution_count": 47,
     "metadata": {},
     "output_type": "execute_result"
    },
    {
     "data": {
      "image/png": "[encoded data removed]",
      "text/plain": [
       "<Figure size 1080x216 with 1 Axes>"
      ]
     },
     "metadata": {
      "needs_background": "light"
     },
     "output_type": "display_data"
    }
   ],
   "source": [
    "plt.figure(figsize=(15,3))\n",
    "plt.plot(df_tweets.groupby('crDate')['edInput'].mean())\n",
    "plt.title('daily categorization success rate for business tweets')"
   ]
  },
  {
   "cell_type": "code",
   "execution_count": 48,
   "metadata": {},
   "outputs": [
    {
     "data": {
      "text/plain": [
       "Text(0.5, 1.0, 'daily tweets')"
      ]
     },
     "execution_count": 48,
     "metadata": {},
     "output_type": "execute_result"
    },
    {
     "data": {
      "image/png": "[encoded data removed]",
      "text/plain": [
       "<Figure size 1080x216 with 1 Axes>"
      ]
     },
     "metadata": {
      "needs_background": "light"
     },
     "output_type": "display_data"
    }
   ],
   "source": [
    "plt.figure(figsize=(15,3))\n",
    "plt.plot(df_tweets.groupby('crDate')['edInput'].count())\n",
    "plt.title('daily tweets')"
   ]
  },
  {
   "cell_type": "markdown",
   "metadata": {},
   "source": [
    "Once the Business category was introduced, the correct categorization rate fluctuated between 40% and 70% (just from a visual inspection of the above two charts)."
   ]
  },
  {
   "cell_type": "markdown",
   "metadata": {},
   "source": [
    "Which tweeters had the most tweets in 'Business' as categorized the RBA?"
   ]
  },
  {
   "cell_type": "code",
   "execution_count": 49,
   "metadata": {},
   "outputs": [
    {
     "data": {
      "image/png": "[encoded data removed]",
      "text/plain": [
       "<Figure size 1080x216 with 1 Axes>"
      ]
     },
     "metadata": {
      "needs_background": "light"
     },
     "output_type": "display_data"
    }
   ],
   "source": [
    "plt.figure(figsize=(15,3))\n",
    "df_tweets.groupby('usName')['edInput'].count().sort_values(ascending=False)[:20].plot.bar()\n",
    "plt.title('most prolific Business category tweeters per RBA - sorted in descending order')\n",
    "plt.ylabel('number of tweets');"
   ]
  },
  {
   "cell_type": "code",
   "execution_count": 50,
   "metadata": {},
   "outputs": [
    {
     "data": {
      "text/plain": [
       "Text(0, 0.5, 'cumulative tweets')"
      ]
     },
     "execution_count": 50,
     "metadata": {},
     "output_type": "execute_result"
    },
    {
     "data": {
      "image/png": "[encoded data removed]",
      "text/plain": [
       "<Figure size 1080x216 with 1 Axes>"
      ]
     },
     "metadata": {
      "needs_background": "light"
     },
     "output_type": "display_data"
    }
   ],
   "source": [
    "plt.figure(figsize=(15,3))\n",
    "df_tweets.groupby('usName')['edInput'].count().sort_values(ascending=False).cumsum()[:20].plot.bar()\n",
    "plt.grid(b=True, axis='y')\n",
    "plt.ylabel('cumulative tweets')"
   ]
  },
  {
   "cell_type": "markdown",
   "metadata": {},
   "source": [
    "About 25000 of the 30000 tweets flagged as 'Business' were by the top five or six users."
   ]
  },
  {
   "cell_type": "markdown",
   "metadata": {},
   "source": [
    "### Does the success rate for a user depend upon how much a user tweets?"
   ]
  },
  {
   "cell_type": "markdown",
   "metadata": {},
   "source": [
    "Fifteen most-prolific tweeters:"
   ]
  },
  {
   "cell_type": "code",
   "execution_count": 51,
   "metadata": {
    "scrolled": true
   },
   "outputs": [
    {
     "data": {
      "image/png": "[encoded data removed]",
      "text/plain": [
       "<Figure size 1080x360 with 2 Axes>"
      ]
     },
     "metadata": {
      "needs_background": "light"
     },
     "output_type": "display_data"
    }
   ],
   "source": [
    "plt.figure(figsize=(15,5))\n",
    "ax1 = df_tweets.groupby('usName')['edInput'].agg(['count', 'mean']).sort_values('count', \n",
    "    ascending=False)[:15]['count'].plot.bar(color='blue')\n",
    "ax2 = df_tweets.groupby('usName')['edInput'].agg(['count', 'mean']).sort_values('count', \n",
    "    ascending=False)[:15]['mean'].plot(secondary_y=True, color='red')\n",
    "ax1.set_ylabel('number of tweets', color='blue')\n",
    "ax2.set_ylabel('fraction categorized correctly', color='red');"
   ]
  },
  {
   "cell_type": "markdown",
   "metadata": {},
   "source": [
    "All tweeters:"
   ]
  },
  {
   "cell_type": "code",
   "execution_count": 52,
   "metadata": {},
   "outputs": [
    {
     "data": {
      "image/png": "[encoded data removed]",
      "text/plain": [
       "<Figure size 1080x360 with 2 Axes>"
      ]
     },
     "metadata": {
      "needs_background": "light"
     },
     "output_type": "display_data"
    }
   ],
   "source": [
    "import matplotlib.ticker as ticker\n",
    "\n",
    "plt.figure(figsize=(15,5))\n",
    "\n",
    "ax1 = df_tweets.groupby('usName')['edInput'].agg(['count', 'mean']).sort_values('count', \n",
    "    ascending=False)['count'].plot.bar(color='blue')\n",
    "ax2 = df_tweets.groupby('usName')['edInput'].agg(['count', 'mean']).sort_values('count', \n",
    "    ascending=False)['mean'].plot(secondary_y=True, color='red')\n",
    "\n",
    "# the next two lines of code prevent xtick labels. there are hundreds of xtick labels.\n",
    "# this requires a very small font, which produces multiple warnings.\n",
    "ax1.xaxis.set_major_locator(ticker.NullLocator()) \n",
    "ax2.xaxis.set_major_locator(ticker.NullLocator())\n",
    "\n",
    "ax1.set_ylabel('number of tweets', color='blue')\n",
    "ax2.set_ylabel('fraction categorized correctly', color='red');"
   ]
  },
  {
   "cell_type": "markdown",
   "metadata": {},
   "source": [
    "Here are the top-25 tweeters sorted by categorization success rate."
   ]
  },
  {
   "cell_type": "code",
   "execution_count": 53,
   "metadata": {},
   "outputs": [
    {
     "data": {
      "text/plain": [
       "usName\n",
       "Bloomberg Markets          0.983740\n",
       "Joe Weisenthal             0.950820\n",
       "Harvard Business Review    0.947509\n",
       "Stanford Business          0.909091\n",
       "Inc.                       0.889318\n",
       "Bloomberg Economics        0.885714\n",
       "Reuters Business           0.883382\n",
       "Bloomberg Next China       0.857143\n",
       "Reuters Top News           0.829412\n",
       "Businessweek               0.792208\n",
       "Bloomberg Crypto           0.694915\n",
       "ReutersBreakingviews       0.691176\n",
       "Bloomberg TV               0.626866\n",
       "Bloomberg                  0.593616\n",
       "Bloomberg Opinion          0.578740\n",
       "Bloomberg Asia             0.524272\n",
       "Business Insider           0.467115\n",
       "Tech Insider               0.415385\n",
       "Bloomberg TicToc           0.274021\n",
       "Bloomberg Brexit           0.268456\n",
       "INSIDER                    0.172352\n",
       "Bloomberg Politics         0.169231\n",
       "Politics Insider           0.126667\n",
       "Sports Insider             0.046154\n",
       "FOOD INSIDER               0.027356\n",
       "Name: mean, dtype: float64"
      ]
     },
     "execution_count": 53,
     "metadata": {},
     "output_type": "execute_result"
    }
   ],
   "source": [
    "df_tweets.groupby('usName')['edInput'].agg(['count', 'mean']).sort_values('count', ascending=False)[:25].sort_values('mean', ascending=False)['mean']"
   ]
  },
  {
   "cell_type": "markdown",
   "metadata": {},
   "source": [
    "Observations:\n",
    "1. Tweeters who had only one tweet (right-hand-side of lower chart), the success rate was either 0% or 100% - not surprising;\n",
    "2. Is there a pattern among prolific tweeters? It might be more statistically significant than the low-volume tweeters. Among the most-prolific tweeters (left-hand side of lower chart, or upper chart, or table), success rate appears to be higher for tweeters that are business-oriented as indicated by the *usName*, e.g., 'Business Insider', 'Harvard Business Review', 'Reuters Business', 'Businessweek', etc. These have some business-related word in the user name. But there are also exceptions like 'Joe Weisenthal. **What I am trying to get at is that some users may write a tweet in a way that makes it obvious that it is business-related. How to flag/identify such users? I am reluctant to one-hot-encode the *usName* at this time - there are too many. I'll leave it here for now.**"
   ]
  },
  {
   "cell_type": "markdown",
   "metadata": {},
   "source": [
    "Is there any relationship between *isApproved* and *edInput*?"
   ]
  },
  {
   "cell_type": "code",
   "execution_count": 54,
   "metadata": {},
   "outputs": [
    {
     "data": {
      "image/png": "[encoded data removed]",
      "text/plain": [
       "<Figure size 432x288 with 1 Axes>"
      ]
     },
     "metadata": {
      "needs_background": "light"
     },
     "output_type": "display_data"
    }
   ],
   "source": [
    "df_tweets.groupby('isApproved')['edInput'].mean().plot.bar()\n",
    "plt.ylabel('fraction Correct')\n",
    "for index, value in enumerate(df_tweets.groupby('isApproved')['edInput'].mean()):\n",
    "    plt.text(index-0.1, value / 2, str(round(value, 2)))"
   ]
  },
  {
   "cell_type": "markdown",
   "metadata": {},
   "source": [
    "There is a 1:1 relationship. *isApproved* is probably a function of *edInput*. I will not use it as a feature."
   ]
  },
  {
   "cell_type": "markdown",
   "metadata": {},
   "source": [
    "How well does *edInput* correlate with the other numeric inputs?"
   ]
  },
  {
   "cell_type": "code",
   "execution_count": 55,
   "metadata": {},
   "outputs": [
    {
     "data": {
      "text/plain": [
       "tweetID       0.055934\n",
       "edInput       1.000000\n",
       "editor        0.071926\n",
       "engages      -0.014906\n",
       "isApproved    1.000000\n",
       "isRT         -0.131470\n",
       "likes        -0.013739\n",
       "photoUrl      0.074383\n",
       "retweets     -0.018651\n",
       "rtUsID       -0.015425\n",
       "usFlwrs       0.098003\n",
       "usID         -0.025960\n",
       "videoUrl     -0.286741\n",
       "Name: edInput, dtype: float64"
      ]
     },
     "execution_count": 55,
     "metadata": {},
     "output_type": "execute_result"
    }
   ],
   "source": [
    "df_tweets.corr().loc['edInput']"
   ]
  },
  {
   "cell_type": "markdown",
   "metadata": {},
   "source": [
    "... not too well. The strongest correlation is with the absence of a video. These numeric inputs are probably not good features. Some of them - *editor*, *engages*, *rtUsID*, *usID* - are 'numeric' in name only. The text of the tweet, hopefully, is the strongest indicator of category."
   ]
  },
  {
   "cell_type": "markdown",
   "metadata": {},
   "source": [
    "### Of the columns examined so far, I will include the presence/absence of a photo and video as features. The *usName* or *usID* may be a good feature, but I am reluctant to add almost 500 new columns at this point."
   ]
  },
  {
   "cell_type": "markdown",
   "metadata": {},
   "source": [
    "### Save the dataframe to a pickle file so that  the above steps do not have to be repeated."
   ]
  },
  {
   "cell_type": "code",
   "execution_count": 56,
   "metadata": {},
   "outputs": [],
   "source": [
    "pd.to_pickle(df_tweets, 'df_tweets.pkl')"
   ]
  },
  {
   "cell_type": "code",
   "execution_count": null,
   "metadata": {},
   "outputs": [],
   "source": []
  },
  {
   "cell_type": "markdown",
   "metadata": {},
   "source": [
    "## Model"
   ]
  },
  {
   "cell_type": "code",
   "execution_count": 57,
   "metadata": {},
   "outputs": [
    {
     "name": "stderr",
     "output_type": "stream",
     "text": [
      "[nltk_data] Downloading package stopwords to\n",
      "[nltk_data]     C:\\Users\\ashut\\AppData\\Roaming\\nltk_data...\n",
      "[nltk_data]   Package stopwords is already up-to-date!\n",
      "[nltk_data] Downloading package wordnet to\n",
      "[nltk_data]     C:\\Users\\ashut\\AppData\\Roaming\\nltk_data...\n",
      "[nltk_data]   Package wordnet is already up-to-date!\n"
     ]
    }
   ],
   "source": [
    "import re\n",
    "import nltk\n",
    "nltk.download('stopwords')\n",
    "nltk.download('wordnet')\n",
    "from nltk.corpus import stopwords\n",
    "from nltk.stem.porter import PorterStemmer\n",
    "from nltk.stem.wordnet import WordNetLemmatizer"
   ]
  },
  {
   "cell_type": "markdown",
   "metadata": {},
   "source": [
    "Examine a few tweets:"
   ]
  },
  {
   "cell_type": "code",
   "execution_count": 58,
   "metadata": {},
   "outputs": [
    {
     "data": {
      "text/plain": [
       "12252     UK Prime Minister Theresa May will face a vote...\n",
       "14042     UK PM Theresa May wins confidence vote with 20...\n",
       "16954     The probe of the inaugural fund partly arises ...\n",
       "18004     The week Brexit hit the brick wall :  Commons ...\n",
       "18396     Have watched these kinds of pictures looking f...\n",
       "                                ...                        \n",
       "785779    This bouquet of roses is completely edible htt...\n",
       "785809    This fancy McDonald's has a handwashing statio...\n",
       "785813    🚨 Spoilers ahead 🚨\\nFinished #StrangerThings? ...\n",
       "785829    These cakes are topped with yogurt 🎂 https://t...\n",
       "785854    Are you team Shake Shack or team In-N-Out? htt...\n",
       "Name: text, Length: 30024, dtype: object"
      ]
     },
     "execution_count": 58,
     "metadata": {},
     "output_type": "execute_result"
    }
   ],
   "source": [
    "df_tweets['text']"
   ]
  },
  {
   "cell_type": "markdown",
   "metadata": {},
   "source": [
    "The tweets contain emojis and URLs. As part of data cleaning, we will:\n",
    "1. Replace the URLs with a string, 'urlplaceholder' just to note that the tweet contained a URL;\n",
    "2. Remove the emojis."
   ]
  },
  {
   "cell_type": "markdown",
   "metadata": {},
   "source": [
    "### Create a tokenizer to normalize, tokenize, stem, lemmatize"
   ]
  },
  {
   "cell_type": "code",
   "execution_count": 59,
   "metadata": {},
   "outputs": [],
   "source": [
    "url_regex = 'http[s]?://(?:[a-zA-Z]|[0-9]|[$-_@.&+]|[!*\\(\\),]|(?:%[0-9a-fA-F][0-9a-fA-F]))+'\n",
    "urlplaceholder = 'urlplaceholder'\n",
    "\n",
    "def tokenize_text(text):\n",
    "    # replace URLs with placeholder\n",
    "    text = re.sub(url_regex, urlplaceholder, text)\n",
    "    \n",
    "    # remove punctuation\n",
    "    text = re.sub(r'[^a-zA-Z0-]',' ', text)\n",
    "    \n",
    "    # change to lower case\n",
    "    text = text.lower()\n",
    "    \n",
    "    # remove stop words\n",
    "    text = [word for word in text.split() if word not in stopwords.words('english')]\n",
    "    \n",
    "    # stem\n",
    "    text = [PorterStemmer().stem(word) for word in text]\n",
    "    \n",
    "    # lemmatize\n",
    "    text = [WordNetLemmatizer().lemmatize(word) for word in text]\n",
    "    \n",
    "    return text"
   ]
  },
  {
   "cell_type": "code",
   "execution_count": null,
   "metadata": {},
   "outputs": [],
   "source": []
  },
  {
   "cell_type": "markdown",
   "metadata": {},
   "source": [
    "## Fit a preliminary model."
   ]
  },
  {
   "cell_type": "code",
   "execution_count": 60,
   "metadata": {},
   "outputs": [],
   "source": [
    "X = df_tweets['text'].values\n",
    "y = df_tweets['edInput'].values"
   ]
  },
  {
   "cell_type": "code",
   "execution_count": 61,
   "metadata": {},
   "outputs": [],
   "source": [
    "from sklearn.metrics import confusion_matrix, classification_report, accuracy_score, precision_score, recall_score\n",
    "from sklearn.model_selection import train_test_split\n",
    "from sklearn.ensemble import RandomForestClassifier\n",
    "from sklearn.naive_bayes import BernoulliNB\n",
    "from sklearn.feature_extraction.text import CountVectorizer, TfidfTransformer\n",
    "from sklearn.pipeline import Pipeline"
   ]
  },
  {
   "cell_type": "code",
   "execution_count": 62,
   "metadata": {},
   "outputs": [],
   "source": [
    "X_train, X_test, y_train, y_test = train_test_split(X, y, random_state=25)"
   ]
  },
  {
   "cell_type": "code",
   "execution_count": 63,
   "metadata": {},
   "outputs": [
    {
     "data": {
      "text/plain": [
       "(22518,)"
      ]
     },
     "execution_count": 63,
     "metadata": {},
     "output_type": "execute_result"
    }
   ],
   "source": [
    "X_train.shape"
   ]
  },
  {
   "cell_type": "code",
   "execution_count": 64,
   "metadata": {},
   "outputs": [
    {
     "data": {
      "text/plain": [
       "(7506,)"
      ]
     },
     "execution_count": 64,
     "metadata": {},
     "output_type": "execute_result"
    }
   ],
   "source": [
    "X_test.shape"
   ]
  },
  {
   "cell_type": "code",
   "execution_count": 65,
   "metadata": {},
   "outputs": [],
   "source": [
    "import time"
   ]
  },
  {
   "cell_type": "code",
   "execution_count": 66,
   "metadata": {},
   "outputs": [
    {
     "name": "stdout",
     "output_type": "stream",
     "text": [
      "88.5641258 seconds\n"
     ]
    }
   ],
   "source": [
    "start = time.perf_counter()\n",
    "cv = CountVectorizer(tokenizer=tokenize_text)\n",
    "X_train_count = cv.fit_transform(X_train)\n",
    "print('{} seconds'.format(time.perf_counter() - start))"
   ]
  },
  {
   "cell_type": "code",
   "execution_count": 67,
   "metadata": {},
   "outputs": [
    {
     "name": "stdout",
     "output_type": "stream",
     "text": [
      "0.011628500000000486 seconds\n"
     ]
    }
   ],
   "source": [
    "start = time.perf_counter()\n",
    "tfidf = TfidfTransformer()\n",
    "X_train_tfidf = tfidf.fit_transform(X_train_count)\n",
    "print('{} seconds'.format(time.perf_counter() - start))"
   ]
  },
  {
   "cell_type": "code",
   "execution_count": 68,
   "metadata": {},
   "outputs": [
    {
     "name": "stdout",
     "output_type": "stream",
     "text": [
      "28.91172990000001 seconds\n"
     ]
    }
   ],
   "source": [
    "start = time.perf_counter()\n",
    "X_test_count = cv.transform(X_test)\n",
    "print('{} seconds'.format(time.perf_counter() - start))"
   ]
  },
  {
   "cell_type": "code",
   "execution_count": 69,
   "metadata": {},
   "outputs": [
    {
     "name": "stdout",
     "output_type": "stream",
     "text": [
      "0.0019258000000093034 seconds\n"
     ]
    }
   ],
   "source": [
    "start = time.perf_counter()\n",
    "X_test_tfidf = tfidf.transform(X_test_count)\n",
    "print('{} seconds'.format(time.perf_counter() - start))"
   ]
  },
  {
   "cell_type": "code",
   "execution_count": 70,
   "metadata": {},
   "outputs": [
    {
     "name": "stdout",
     "output_type": "stream",
     "text": [
      "0.005843999999996186 seconds\n"
     ]
    }
   ],
   "source": [
    "start = time.perf_counter()\n",
    "clf = BernoulliNB()\n",
    "clf.fit(X_train_tfidf, y_train)\n",
    "print('{} seconds'.format(time.perf_counter() - start))"
   ]
  },
  {
   "cell_type": "code",
   "execution_count": 71,
   "metadata": {},
   "outputs": [
    {
     "name": "stdout",
     "output_type": "stream",
     "text": [
      "0.0018838000000016564 seconds\n"
     ]
    }
   ],
   "source": [
    "start = time.perf_counter()\n",
    "y_test_pred = clf.predict(X_test_tfidf)\n",
    "print('{} seconds'.format(time.perf_counter() - start))"
   ]
  },
  {
   "cell_type": "code",
   "execution_count": 72,
   "metadata": {},
   "outputs": [],
   "source": [
    "def display_results(y_test, y_pred):\n",
    "    tn, fp, fn, tp = confusion_matrix(y_test, y_pred).ravel()\n",
    "    accuracy = accuracy_score(y_test, y_pred)\n",
    "    recall = recall_score(y_test, y_pred, pos_label=1)\n",
    "    specificity = recall_score(y_test, y_pred, pos_label=0)\n",
    "    precision = precision_score(y_test, y_pred, pos_label=1)\n",
    "\n",
    "    print(\"confusion matrix:\\n\", confusion_matrix(y_test, y_pred))\n",
    "    print(\"accuracy:\", accuracy)\n",
    "    print(\"recall:\", recall)\n",
    "    print(\"specificity:\", specificity)\n",
    "    print(\"precision:\", precision)"
   ]
  },
  {
   "cell_type": "code",
   "execution_count": 73,
   "metadata": {},
   "outputs": [
    {
     "name": "stdout",
     "output_type": "stream",
     "text": [
      "confusion matrix:\n",
      " [[2160  876]\n",
      " [ 528 3942]]\n",
      "accuracy: 0.8129496402877698\n",
      "recall: 0.8818791946308725\n",
      "specificity: 0.7114624505928854\n",
      "precision: 0.8181818181818182\n"
     ]
    }
   ],
   "source": [
    "# display results\n",
    "display_results(y_test, y_test_pred)"
   ]
  },
  {
   "cell_type": "markdown",
   "metadata": {},
   "source": [
    "We want to maximize the recall (minimize false positives). Keep in mind that:\n",
    "* Class 1 is Correct classification;\n",
    "* Class 0 is Incorrect classification.\n",
    "\n",
    "Without any attempt at optimization, a naive Bayes classifier produced recall = 0.88. This is promising. Next, I will try to improve the classifier performance by:\n",
    "1. Dimensionality reduction;\n",
    "2. Classifier selection;\n",
    "3. Hyperparameter tuning."
   ]
  },
  {
   "cell_type": "markdown",
   "metadata": {},
   "source": [
    "## Dimensionality reduction"
   ]
  },
  {
   "cell_type": "markdown",
   "metadata": {
    "tags": []
   },
   "source": [
    "What is the number of features?"
   ]
  },
  {
   "cell_type": "code",
   "execution_count": 74,
   "metadata": {},
   "outputs": [
    {
     "data": {
      "text/plain": [
       "(22518, 16469)"
      ]
     },
     "execution_count": 74,
     "metadata": {},
     "output_type": "execute_result"
    }
   ],
   "source": [
    "X_train_tfidf.shape"
   ]
  },
  {
   "cell_type": "markdown",
   "metadata": {},
   "source": [
    "The number of features is very large. I will try two methods of dimensionality reduction:\n",
    "1. Truncated SVD (like PCA, but with sparse input);\n",
    "2. Set a minimum document frequency when running `CountVectorizer`."
   ]
  },
  {
   "cell_type": "markdown",
   "metadata": {},
   "source": [
    "### TruncatedSVD"
   ]
  },
  {
   "cell_type": "code",
   "execution_count": 75,
   "metadata": {},
   "outputs": [],
   "source": [
    "from sklearn.preprocessing import StandardScaler\n",
    "from sklearn.decomposition import TruncatedSVD"
   ]
  },
  {
   "cell_type": "code",
   "execution_count": 76,
   "metadata": {},
   "outputs": [],
   "source": [
    "ss = StandardScaler(copy=True, with_mean=False)"
   ]
  },
  {
   "cell_type": "code",
   "execution_count": 77,
   "metadata": {},
   "outputs": [],
   "source": [
    "X_train_scaled = ss.fit_transform(X_train_tfidf)"
   ]
  },
  {
   "cell_type": "code",
   "execution_count": 78,
   "metadata": {},
   "outputs": [
    {
     "data": {
      "text/plain": [
       "(22518, 16469)"
      ]
     },
     "execution_count": 78,
     "metadata": {},
     "output_type": "execute_result"
    }
   ],
   "source": [
    "X_train_scaled.shape"
   ]
  },
  {
   "cell_type": "code",
   "execution_count": 79,
   "metadata": {},
   "outputs": [
    {
     "name": "stdout",
     "output_type": "stream",
     "text": [
      "210.58866030000002 seconds\n"
     ]
    }
   ],
   "source": [
    "start = time.perf_counter()\n",
    "tsvd = TruncatedSVD(n_components=5000, random_state=25)\n",
    "tsvd.fit(X_train_scaled)\n",
    "print('{} seconds'.format(time.perf_counter() - start))"
   ]
  },
  {
   "cell_type": "code",
   "execution_count": 80,
   "metadata": {},
   "outputs": [
    {
     "data": {
      "text/plain": [
       "0.6740396208223238"
      ]
     },
     "execution_count": 80,
     "metadata": {},
     "output_type": "execute_result"
    }
   ],
   "source": [
    "sum(tsvd.explained_variance_ratio_)"
   ]
  },
  {
   "cell_type": "code",
   "execution_count": 81,
   "metadata": {
    "scrolled": true
   },
   "outputs": [
    {
     "data": {
      "text/plain": [
       "[<matplotlib.lines.Line2D at 0x1eb429cc160>]"
      ]
     },
     "execution_count": 81,
     "metadata": {},
     "output_type": "execute_result"
    },
    {
     "data": {
      "image/png": "[encoded data removed]",
      "text/plain": [
       "<Figure size 432x288 with 1 Axes>"
      ]
     },
     "metadata": {
      "needs_background": "light"
     },
     "output_type": "display_data"
    }
   ],
   "source": [
    "plt.plot(np.cumsum(tsvd.explained_variance_ratio_))"
   ]
  },
  {
   "cell_type": "markdown",
   "metadata": {},
   "source": [
    "5,000 compressed features retain less than 70% of the feature variance. This is not encouraging. From the shape of the curve, it appears that approximately 10,000 compressed features will be needed to capture 90% of feature variance."
   ]
  },
  {
   "cell_type": "markdown",
   "metadata": {},
   "source": [
    "How well does a naive Bayes classifier perform with 5,000 compressed features?"
   ]
  },
  {
   "cell_type": "code",
   "execution_count": 82,
   "metadata": {},
   "outputs": [
    {
     "name": "stdout",
     "output_type": "stream",
     "text": [
      "2.6703791999999567 seconds\n"
     ]
    }
   ],
   "source": [
    "start = time.perf_counter()\n",
    "clf = BernoulliNB()\n",
    "clf.fit(tsvd.transform(X_train_scaled), y_train)\n",
    "print('{} seconds'.format(time.perf_counter() - start))"
   ]
  },
  {
   "cell_type": "code",
   "execution_count": 83,
   "metadata": {},
   "outputs": [
    {
     "name": "stdout",
     "output_type": "stream",
     "text": [
      "0.9796727000000374 seconds\n"
     ]
    }
   ],
   "source": [
    "start = time.perf_counter()\n",
    "X_test_scaled = ss.transform(X_test_tfidf)\n",
    "y_test_pred = clf.predict(tsvd.transform(X_test_scaled))\n",
    "print('{} seconds'.format(time.perf_counter() - start))"
   ]
  },
  {
   "cell_type": "code",
   "execution_count": 84,
   "metadata": {},
   "outputs": [
    {
     "name": "stdout",
     "output_type": "stream",
     "text": [
      "confusion matrix:\n",
      " [[2246  790]\n",
      " [1128 3342]]\n",
      "accuracy: 0.7444710897948308\n",
      "recall: 0.7476510067114094\n",
      "specificity: 0.7397891963109354\n",
      "precision: 0.808809293320426\n"
     ]
    }
   ],
   "source": [
    "# display results\n",
    "display_results(y_test, y_test_pred)"
   ]
  },
  {
   "cell_type": "markdown",
   "metadata": {},
   "source": [
    "Classifier performance degraded. Using a larger number of will take a long time to fit `TruncatedSVD`."
   ]
  },
  {
   "cell_type": "markdown",
   "metadata": {},
   "source": [
    "### Try `CountVectorizer` with a minimum document frequency threshold."
   ]
  },
  {
   "cell_type": "markdown",
   "metadata": {},
   "source": [
    "Try `min_df`=5 (arbitrary choice)."
   ]
  },
  {
   "cell_type": "code",
   "execution_count": 85,
   "metadata": {},
   "outputs": [
    {
     "name": "stdout",
     "output_type": "stream",
     "text": [
      "86.93587390000005 seconds\n"
     ]
    }
   ],
   "source": [
    "start = time.perf_counter()\n",
    "cv = CountVectorizer(tokenizer=tokenize_text, min_df=5)\n",
    "X_train_count = cv.fit_transform(X_train)\n",
    "tfidf = TfidfTransformer()\n",
    "X_train_tfidf = tfidf.fit_transform(X_train_count)\n",
    "print('{} seconds'.format(time.perf_counter() - start))"
   ]
  },
  {
   "cell_type": "code",
   "execution_count": 86,
   "metadata": {},
   "outputs": [
    {
     "name": "stdout",
     "output_type": "stream",
     "text": [
      "0.005359200000043529 seconds\n"
     ]
    }
   ],
   "source": [
    "start = time.perf_counter()\n",
    "clf = BernoulliNB()\n",
    "clf.fit(X_train_tfidf, y_train)\n",
    "print('{} seconds'.format(time.perf_counter() - start))"
   ]
  },
  {
   "cell_type": "code",
   "execution_count": 87,
   "metadata": {},
   "outputs": [
    {
     "name": "stdout",
     "output_type": "stream",
     "text": [
      "28.76968450000004 seconds\n"
     ]
    }
   ],
   "source": [
    "start = time.perf_counter()\n",
    "X_test_count = cv.transform(X_test)\n",
    "X_test_tfidf = tfidf.transform(X_test_count)\n",
    "print('{} seconds'.format(time.perf_counter() - start))"
   ]
  },
  {
   "cell_type": "code",
   "execution_count": 88,
   "metadata": {},
   "outputs": [
    {
     "name": "stdout",
     "output_type": "stream",
     "text": [
      "0.0014386000000286003 seconds\n"
     ]
    }
   ],
   "source": [
    "start = time.perf_counter()\n",
    "y_test_pred = clf.predict(X_test_tfidf)\n",
    "print('{} seconds'.format(time.perf_counter() - start))"
   ]
  },
  {
   "cell_type": "code",
   "execution_count": 89,
   "metadata": {},
   "outputs": [
    {
     "name": "stdout",
     "output_type": "stream",
     "text": [
      "confusion matrix:\n",
      " [[2207  829]\n",
      " [ 601 3869]]\n",
      "accuracy: 0.8094857447375433\n",
      "recall: 0.8655480984340045\n",
      "specificity: 0.7269433465085638\n",
      "precision: 0.823541932737335\n"
     ]
    }
   ],
   "source": [
    "# display results\n",
    "display_results(y_test, y_test_pred)"
   ]
  },
  {
   "cell_type": "markdown",
   "metadata": {},
   "source": [
    "Compared to the `CountVectorizer` with `min_df`=1, the accuracy and precision remained unchanged while the recall score dropped imperceptibly from 0.88 to 0.87."
   ]
  },
  {
   "cell_type": "markdown",
   "metadata": {},
   "source": [
    "## Try other classifiers"
   ]
  },
  {
   "cell_type": "code",
   "execution_count": 90,
   "metadata": {},
   "outputs": [],
   "source": [
    "from sklearn.naive_bayes import BernoulliNB, ComplementNB\n",
    "from sklearn.ensemble import RandomForestClassifier, GradientBoostingClassifier\n",
    "from sklearn.tree import DecisionTreeClassifier\n",
    "from sklearn.linear_model import RidgeClassifier, SGDClassifier, LogisticRegression\n",
    "from sklearn.neighbors import KNeighborsClassifier\n",
    "from sklearn.svm import LinearSVC, SVC"
   ]
  },
  {
   "cell_type": "code",
   "execution_count": 91,
   "metadata": {},
   "outputs": [],
   "source": [
    "def fit_classifier(clf):\n",
    "    \n",
    "    start = time.perf_counter()\n",
    "    \n",
    "    clf.fit(X_train_tfidf, y_train)\n",
    "    y_test_pred = clf.predict(X_test_tfidf)\n",
    "    \n",
    "    tn, fp, fn, tp = confusion_matrix(y_test, y_test_pred).ravel()\n",
    "    recall = recall_score(y_test, y_test_pred, pos_label=1)\n",
    "    specificity = recall_score(y_test, y_test_pred, pos_label=0) # recall for class 0 is specificity of class 1\n",
    "    precision = precision_score(y_test, y_test_pred, pos_label=1)\n",
    "    accuracy = accuracy_score(y_test, y_test_pred)\n",
    "    run_time = time.perf_counter() - start\n",
    "    \n",
    "    return tp, fp, tn, fn, recall, specificity, precision, accuracy, run_time"
   ]
  },
  {
   "cell_type": "code",
   "execution_count": 107,
   "metadata": {},
   "outputs": [],
   "source": [
    "df_fit = pd.DataFrame(columns=['classifier', 'recall', 'specificity', 'precision', 'accuracy', 'tp', 'fp', 'tn', 'fn', 'runtime (sec)'])"
   ]
  },
  {
   "cell_type": "code",
   "execution_count": 108,
   "metadata": {},
   "outputs": [],
   "source": [
    "cv = CountVectorizer(tokenizer=tokenize_text)\n",
    "X_train_count = cv.fit_transform(X_train)\n",
    "tfidf = TfidfTransformer()\n",
    "X_train_tfidf = tfidf.fit_transform(X_train_count)\n",
    "X_test_count = cv.transform(X_test)\n",
    "X_test_tfidf = tfidf.transform(X_test_count)"
   ]
  },
  {
   "cell_type": "code",
   "execution_count": 109,
   "metadata": {},
   "outputs": [],
   "source": [
    "classifiers = {'BernoulliNB': BernoulliNB(), \n",
    "               'RandomForest': RandomForestClassifier(random_state=25, n_jobs=-1), \n",
    "               'DecisionTree': DecisionTreeClassifier(random_state=25), \n",
    "               'GradientBoosting': GradientBoostingClassifier(random_state=25),\n",
    "               'Ridge': RidgeClassifier(random_state=25),\n",
    "               'Logistic': LogisticRegression(random_state=25),\n",
    "               'SGD': SGDClassifier(random_state=25, n_jobs=-1),\n",
    "               'KNeighbors': KNeighborsClassifier(n_jobs=-1),\n",
    "               'ComplementNB': ComplementNB(),\n",
    "               'SVC': SVC(random_state=25),\n",
    "               'LinearSVC': LinearSVC(random_state=25)\n",
    "              }"
   ]
  },
  {
   "cell_type": "code",
   "execution_count": 110,
   "metadata": {},
   "outputs": [],
   "source": [
    "from tqdm import tqdm"
   ]
  },
  {
   "cell_type": "code",
   "execution_count": 111,
   "metadata": {},
   "outputs": [
    {
     "name": "stderr",
     "output_type": "stream",
     "text": [
      "100%|██████████| 11/11 [01:59<00:00, 10.87s/it]\n"
     ]
    }
   ],
   "source": [
    "for clf in tqdm(classifiers):\n",
    "    tp, fp, tn, fn, recall, specificity, precision, accuracy, run_time = fit_classifier(classifiers[clf])\n",
    "    df_fit = df_fit.append({'classifier': clf, 'recall': recall, 'specificity': specificity,\n",
    "                            'precision': precision, 'accuracy': accuracy,\n",
    "                            'tp': tp, 'fp': fp, 'tn': tn, 'fn': fn, 'runtime (sec)': run_time}, ignore_index=True)"
   ]
  },
  {
   "cell_type": "code",
   "execution_count": 112,
   "metadata": {},
   "outputs": [],
   "source": [
    "df_fit.sort_values(by=['specificity'], ascending=False, inplace=True)"
   ]
  },
  {
   "cell_type": "code",
   "execution_count": 113,
   "metadata": {},
   "outputs": [
    {
     "data": {
      "text/html": [
       "<div>\n",
       "<style scoped>\n",
       "    .dataframe tbody tr th:only-of-type {\n",
       "        vertical-align: middle;\n",
       "    }\n",
       "\n",
       "    .dataframe tbody tr th {\n",
       "        vertical-align: top;\n",
       "    }\n",
       "\n",
       "    .dataframe thead th {\n",
       "        text-align: right;\n",
       "    }\n",
       "</style>\n",
       "<table border=\"1\" class=\"dataframe\">\n",
       "  <thead>\n",
       "    <tr style=\"text-align: right;\">\n",
       "      <th></th>\n",
       "      <th>classifier</th>\n",
       "      <th>recall</th>\n",
       "      <th>specificity</th>\n",
       "      <th>precision</th>\n",
       "      <th>accuracy</th>\n",
       "      <th>tp</th>\n",
       "      <th>fp</th>\n",
       "      <th>tn</th>\n",
       "      <th>fn</th>\n",
       "      <th>runtime (sec)</th>\n",
       "    </tr>\n",
       "  </thead>\n",
       "  <tbody>\n",
       "    <tr>\n",
       "      <th>10</th>\n",
       "      <td>LinearSVC</td>\n",
       "      <td>0.851454</td>\n",
       "      <td>0.749671</td>\n",
       "      <td>0.833552</td>\n",
       "      <td>0.810285</td>\n",
       "      <td>3806</td>\n",
       "      <td>760</td>\n",
       "      <td>2276</td>\n",
       "      <td>664</td>\n",
       "      <td>0.069180</td>\n",
       "    </tr>\n",
       "    <tr>\n",
       "      <th>9</th>\n",
       "      <td>SVC</td>\n",
       "      <td>0.881432</td>\n",
       "      <td>0.747036</td>\n",
       "      <td>0.836873</td>\n",
       "      <td>0.827072</td>\n",
       "      <td>3940</td>\n",
       "      <td>768</td>\n",
       "      <td>2268</td>\n",
       "      <td>530</td>\n",
       "      <td>102.205528</td>\n",
       "    </tr>\n",
       "    <tr>\n",
       "      <th>4</th>\n",
       "      <td>Ridge</td>\n",
       "      <td>0.865548</td>\n",
       "      <td>0.739460</td>\n",
       "      <td>0.830258</td>\n",
       "      <td>0.814548</td>\n",
       "      <td>3869</td>\n",
       "      <td>791</td>\n",
       "      <td>2245</td>\n",
       "      <td>601</td>\n",
       "      <td>0.043854</td>\n",
       "    </tr>\n",
       "    <tr>\n",
       "      <th>8</th>\n",
       "      <td>ComplementNB</td>\n",
       "      <td>0.880089</td>\n",
       "      <td>0.730567</td>\n",
       "      <td>0.827862</td>\n",
       "      <td>0.819611</td>\n",
       "      <td>3934</td>\n",
       "      <td>818</td>\n",
       "      <td>2218</td>\n",
       "      <td>536</td>\n",
       "      <td>0.016113</td>\n",
       "    </tr>\n",
       "    <tr>\n",
       "      <th>5</th>\n",
       "      <td>Logistic</td>\n",
       "      <td>0.880313</td>\n",
       "      <td>0.727602</td>\n",
       "      <td>0.826333</td>\n",
       "      <td>0.818545</td>\n",
       "      <td>3935</td>\n",
       "      <td>827</td>\n",
       "      <td>2209</td>\n",
       "      <td>535</td>\n",
       "      <td>0.198581</td>\n",
       "    </tr>\n",
       "    <tr>\n",
       "      <th>6</th>\n",
       "      <td>SGD</td>\n",
       "      <td>0.883221</td>\n",
       "      <td>0.719697</td>\n",
       "      <td>0.822671</td>\n",
       "      <td>0.817080</td>\n",
       "      <td>3948</td>\n",
       "      <td>851</td>\n",
       "      <td>2185</td>\n",
       "      <td>522</td>\n",
       "      <td>0.043913</td>\n",
       "    </tr>\n",
       "    <tr>\n",
       "      <th>1</th>\n",
       "      <td>RandomForest</td>\n",
       "      <td>0.870246</td>\n",
       "      <td>0.719368</td>\n",
       "      <td>0.820329</td>\n",
       "      <td>0.809219</td>\n",
       "      <td>3890</td>\n",
       "      <td>852</td>\n",
       "      <td>2184</td>\n",
       "      <td>580</td>\n",
       "      <td>2.650674</td>\n",
       "    </tr>\n",
       "    <tr>\n",
       "      <th>0</th>\n",
       "      <td>BernoulliNB</td>\n",
       "      <td>0.881879</td>\n",
       "      <td>0.711462</td>\n",
       "      <td>0.818182</td>\n",
       "      <td>0.812950</td>\n",
       "      <td>3942</td>\n",
       "      <td>876</td>\n",
       "      <td>2160</td>\n",
       "      <td>528</td>\n",
       "      <td>0.018984</td>\n",
       "    </tr>\n",
       "    <tr>\n",
       "      <th>7</th>\n",
       "      <td>KNeighbors</td>\n",
       "      <td>0.844072</td>\n",
       "      <td>0.691041</td>\n",
       "      <td>0.800892</td>\n",
       "      <td>0.782174</td>\n",
       "      <td>3773</td>\n",
       "      <td>938</td>\n",
       "      <td>2098</td>\n",
       "      <td>697</td>\n",
       "      <td>3.431412</td>\n",
       "    </tr>\n",
       "    <tr>\n",
       "      <th>2</th>\n",
       "      <td>DecisionTree</td>\n",
       "      <td>0.813647</td>\n",
       "      <td>0.666996</td>\n",
       "      <td>0.782487</td>\n",
       "      <td>0.754330</td>\n",
       "      <td>3637</td>\n",
       "      <td>1011</td>\n",
       "      <td>2025</td>\n",
       "      <td>833</td>\n",
       "      <td>5.273226</td>\n",
       "    </tr>\n",
       "    <tr>\n",
       "      <th>3</th>\n",
       "      <td>GradientBoosting</td>\n",
       "      <td>0.962640</td>\n",
       "      <td>0.284256</td>\n",
       "      <td>0.664453</td>\n",
       "      <td>0.688249</td>\n",
       "      <td>4303</td>\n",
       "      <td>2173</td>\n",
       "      <td>863</td>\n",
       "      <td>167</td>\n",
       "      <td>5.614022</td>\n",
       "    </tr>\n",
       "  </tbody>\n",
       "</table>\n",
       "</div>"
      ],
      "text/plain": [
       "          classifier    recall  specificity  precision  accuracy    tp    fp  \\\n",
       "10         LinearSVC  0.851454     0.749671   0.833552  0.810285  3806   760   \n",
       "9                SVC  0.881432     0.747036   0.836873  0.827072  3940   768   \n",
       "4              Ridge  0.865548     0.739460   0.830258  0.814548  3869   791   \n",
       "8       ComplementNB  0.880089     0.730567   0.827862  0.819611  3934   818   \n",
       "5           Logistic  0.880313     0.727602   0.826333  0.818545  3935   827   \n",
       "6                SGD  0.883221     0.719697   0.822671  0.817080  3948   851   \n",
       "1       RandomForest  0.870246     0.719368   0.820329  0.809219  3890   852   \n",
       "0        BernoulliNB  0.881879     0.711462   0.818182  0.812950  3942   876   \n",
       "7         KNeighbors  0.844072     0.691041   0.800892  0.782174  3773   938   \n",
       "2       DecisionTree  0.813647     0.666996   0.782487  0.754330  3637  1011   \n",
       "3   GradientBoosting  0.962640     0.284256   0.664453  0.688249  4303  2173   \n",
       "\n",
       "      tn   fn  runtime (sec)  \n",
       "10  2276  664       0.069180  \n",
       "9   2268  530     102.205528  \n",
       "4   2245  601       0.043854  \n",
       "8   2218  536       0.016113  \n",
       "5   2209  535       0.198581  \n",
       "6   2185  522       0.043913  \n",
       "1   2184  580       2.650674  \n",
       "0   2160  528       0.018984  \n",
       "7   2098  697       3.431412  \n",
       "2   2025  833       5.273226  \n",
       "3    863  167       5.614022  "
      ]
     },
     "execution_count": 113,
     "metadata": {},
     "output_type": "execute_result"
    }
   ],
   "source": [
    "df_fit"
   ]
  },
  {
   "cell_type": "code",
   "execution_count": 114,
   "metadata": {},
   "outputs": [
    {
     "data": {
      "image/png": "[encoded data removed]",
      "text/plain": [
       "<Figure size 432x288 with 1 Axes>"
      ]
     },
     "metadata": {
      "needs_background": "light"
     },
     "output_type": "display_data"
    }
   ],
   "source": [
    "plt.bar(df_fit['classifier'], df_fit['specificity'])\n",
    "plt.ylabel('specificity')\n",
    "plt.xticks(rotation='vertical');"
   ]
  },
  {
   "cell_type": "code",
   "execution_count": 115,
   "metadata": {},
   "outputs": [
    {
     "data": {
      "image/png": "[encoded data removed]",
      "text/plain": [
       "<Figure size 432x288 with 1 Axes>"
      ]
     },
     "metadata": {
      "needs_background": "light"
     },
     "output_type": "display_data"
    }
   ],
   "source": [
    "plt.bar(df_fit['classifier'], df_fit['accuracy'])\n",
    "plt.ylabel('accuracy')\n",
    "plt.xticks(rotation='vertical')\n",
    "plt.ylim([0.6, 0.9]);"
   ]
  },
  {
   "cell_type": "code",
   "execution_count": 116,
   "metadata": {},
   "outputs": [],
   "source": [
    "from sklearn.pipeline import Pipeline\n",
    "from sklearn.model_selection import train_test_split, GridSearchCV"
   ]
  },
  {
   "cell_type": "code",
   "execution_count": 117,
   "metadata": {},
   "outputs": [
    {
     "name": "stdout",
     "output_type": "stream",
     "text": [
      "confusion matrix:\n",
      " [[2276  760]\n",
      " [ 664 3806]]\n",
      "accuracy: 0.810285105249134\n",
      "recall: 0.8514541387024609\n",
      "specificity: 0.7496706192358367\n",
      "precision: 0.8335523434077967\n"
     ]
    }
   ],
   "source": [
    "# test pipeline\n",
    "X_train, X_test, y_train, y_test = train_test_split(X, y, random_state=25)\n",
    "\n",
    "pipeline = Pipeline([\n",
    "    ('cv', CountVectorizer(tokenizer=tokenize_text)),\n",
    "    ('tfidf', TfidfTransformer()),\n",
    "    ('clf', LinearSVC(random_state=25))\n",
    "])\n",
    "\n",
    "pipeline.fit(X_train, y_train)\n",
    "y_pred = pipeline.predict(X_test)\n",
    "\n",
    "display_results(y_test, y_pred)\n"
   ]
  },
  {
   "cell_type": "code",
   "execution_count": 118,
   "metadata": {},
   "outputs": [
    {
     "name": "stdout",
     "output_type": "stream",
     "text": [
      "Fitting 5 folds for each of 6 candidates, totalling 30 fits\n",
      "[CV] clf__C=0.5, clf__class_weight=balanced ..........................\n"
     ]
    },
    {
     "name": "stderr",
     "output_type": "stream",
     "text": [
      "[Parallel(n_jobs=1)]: Using backend SequentialBackend with 1 concurrent workers.\n"
     ]
    },
    {
     "name": "stdout",
     "output_type": "stream",
     "text": [
      "[CV]  clf__C=0.5, clf__class_weight=balanced, score=0.813, total= 1.4min\n",
      "[CV] clf__C=0.5, clf__class_weight=balanced ..........................\n"
     ]
    },
    {
     "name": "stderr",
     "output_type": "stream",
     "text": [
      "[Parallel(n_jobs=1)]: Done   1 out of   1 | elapsed:  1.4min remaining:    0.0s\n"
     ]
    },
    {
     "name": "stdout",
     "output_type": "stream",
     "text": [
      "[CV]  clf__C=0.5, clf__class_weight=balanced, score=0.805, total= 1.4min\n",
      "[CV] clf__C=0.5, clf__class_weight=balanced ..........................\n"
     ]
    },
    {
     "name": "stderr",
     "output_type": "stream",
     "text": [
      "[Parallel(n_jobs=1)]: Done   2 out of   2 | elapsed:  2.9min remaining:    0.0s\n"
     ]
    },
    {
     "name": "stdout",
     "output_type": "stream",
     "text": [
      "[CV]  clf__C=0.5, clf__class_weight=balanced, score=0.808, total= 1.4min\n",
      "[CV] clf__C=0.5, clf__class_weight=balanced ..........................\n",
      "[CV]  clf__C=0.5, clf__class_weight=balanced, score=0.807, total= 1.4min\n",
      "[CV] clf__C=0.5, clf__class_weight=balanced ..........................\n",
      "[CV]  clf__C=0.5, clf__class_weight=balanced, score=0.801, total= 1.4min\n",
      "[CV] clf__C=0.5, clf__class_weight=None ..............................\n",
      "[CV] .. clf__C=0.5, clf__class_weight=None, score=0.814, total= 1.4min\n",
      "[CV] clf__C=0.5, clf__class_weight=None ..............................\n",
      "[CV] .. clf__C=0.5, clf__class_weight=None, score=0.813, total= 1.4min\n",
      "[CV] clf__C=0.5, clf__class_weight=None ..............................\n",
      "[CV] .. clf__C=0.5, clf__class_weight=None, score=0.810, total= 1.4min\n",
      "[CV] clf__C=0.5, clf__class_weight=None ..............................\n",
      "[CV] .. clf__C=0.5, clf__class_weight=None, score=0.808, total= 1.5min\n",
      "[CV] clf__C=0.5, clf__class_weight=None ..............................\n",
      "[CV] .. clf__C=0.5, clf__class_weight=None, score=0.809, total= 1.5min\n",
      "[CV] clf__C=1, clf__class_weight=balanced ............................\n",
      "[CV]  clf__C=1, clf__class_weight=balanced, score=0.810, total= 1.4min\n",
      "[CV] clf__C=1, clf__class_weight=balanced ............................\n",
      "[CV]  clf__C=1, clf__class_weight=balanced, score=0.802, total= 1.4min\n",
      "[CV] clf__C=1, clf__class_weight=balanced ............................\n",
      "[CV]  clf__C=1, clf__class_weight=balanced, score=0.806, total= 1.4min\n",
      "[CV] clf__C=1, clf__class_weight=balanced ............................\n",
      "[CV]  clf__C=1, clf__class_weight=balanced, score=0.803, total= 1.4min\n",
      "[CV] clf__C=1, clf__class_weight=balanced ............................\n",
      "[CV]  clf__C=1, clf__class_weight=balanced, score=0.797, total= 1.4min\n",
      "[CV] clf__C=1, clf__class_weight=None ................................\n",
      "[CV] .... clf__C=1, clf__class_weight=None, score=0.811, total= 1.4min\n",
      "[CV] clf__C=1, clf__class_weight=None ................................\n",
      "[CV] .... clf__C=1, clf__class_weight=None, score=0.808, total= 1.4min\n",
      "[CV] clf__C=1, clf__class_weight=None ................................\n",
      "[CV] .... clf__C=1, clf__class_weight=None, score=0.806, total= 1.4min\n",
      "[CV] clf__C=1, clf__class_weight=None ................................\n",
      "[CV] .... clf__C=1, clf__class_weight=None, score=0.799, total= 1.4min\n",
      "[CV] clf__C=1, clf__class_weight=None ................................\n",
      "[CV] .... clf__C=1, clf__class_weight=None, score=0.802, total= 1.4min\n",
      "[CV] clf__C=2, clf__class_weight=balanced ............................\n",
      "[CV]  clf__C=2, clf__class_weight=balanced, score=0.802, total= 1.4min\n",
      "[CV] clf__C=2, clf__class_weight=balanced ............................\n",
      "[CV]  clf__C=2, clf__class_weight=balanced, score=0.798, total= 1.4min\n",
      "[CV] clf__C=2, clf__class_weight=balanced ............................\n",
      "[CV]  clf__C=2, clf__class_weight=balanced, score=0.799, total= 1.4min\n",
      "[CV] clf__C=2, clf__class_weight=balanced ............................\n",
      "[CV]  clf__C=2, clf__class_weight=balanced, score=0.795, total= 1.4min\n",
      "[CV] clf__C=2, clf__class_weight=balanced ............................\n",
      "[CV]  clf__C=2, clf__class_weight=balanced, score=0.791, total= 1.4min\n",
      "[CV] clf__C=2, clf__class_weight=None ................................\n",
      "[CV] .... clf__C=2, clf__class_weight=None, score=0.809, total= 1.4min\n",
      "[CV] clf__C=2, clf__class_weight=None ................................\n",
      "[CV] .... clf__C=2, clf__class_weight=None, score=0.800, total= 1.4min\n",
      "[CV] clf__C=2, clf__class_weight=None ................................\n",
      "[CV] .... clf__C=2, clf__class_weight=None, score=0.795, total= 1.4min\n",
      "[CV] clf__C=2, clf__class_weight=None ................................\n",
      "[CV] .... clf__C=2, clf__class_weight=None, score=0.794, total= 1.4min\n",
      "[CV] clf__C=2, clf__class_weight=None ................................\n",
      "[CV] .... clf__C=2, clf__class_weight=None, score=0.793, total= 1.4min\n"
     ]
    },
    {
     "name": "stderr",
     "output_type": "stream",
     "text": [
      "[Parallel(n_jobs=1)]: Done  30 out of  30 | elapsed: 43.4min finished\n"
     ]
    },
    {
     "name": "stdout",
     "output_type": "stream",
     "text": [
      "confusion matrix:\n",
      " [[2273  763]\n",
      " [ 633 3837]]\n",
      "accuracy: 0.8140154543032241\n",
      "recall: 0.8583892617449664\n",
      "specificity: 0.7486824769433466\n",
      "precision: 0.8341304347826087\n"
     ]
    }
   ],
   "source": [
    "# hyperparameter tuning pipeline\n",
    "X_train, X_test, y_train, y_test = train_test_split(X, y, random_state=25)\n",
    "\n",
    "pipeline = Pipeline([\n",
    "    ('cv', CountVectorizer(tokenizer=tokenize_text)),\n",
    "    ('tfidf', TfidfTransformer()),\n",
    "    ('clf', LinearSVC(random_state=25))\n",
    "])\n",
    "\n",
    "parameters = {\n",
    "    'clf__C': [0.5, 1, 2],\n",
    "    'clf__class_weight': ['balanced', None]\n",
    "}\n",
    "\n",
    "gscv = GridSearchCV(pipeline, param_grid=parameters, verbose=3)\n",
    "\n",
    "gscv.fit(X_train, y_train)\n",
    "y_pred = gscv.predict(X_test)\n",
    "\n",
    "display_results(y_test, y_pred)\n",
    "\n",
    "\n"
   ]
  },
  {
   "cell_type": "code",
   "execution_count": 119,
   "metadata": {},
   "outputs": [
    {
     "data": {
      "text/plain": [
       "{'clf__C': 0.5, 'clf__class_weight': None}"
      ]
     },
     "execution_count": 119,
     "metadata": {},
     "output_type": "execute_result"
    }
   ],
   "source": [
    "gscv.best_params_"
   ]
  },
  {
   "cell_type": "code",
   "execution_count": null,
   "metadata": {},
   "outputs": [],
   "source": []
  }
 ],
 "metadata": {
  "colab": {
   "collapsed_sections": [
    "Ba-9PXeATjZ2",
    "cheK9v4uTjZ3",
    "eozD803QTjZ4",
    "mRPxjEqyTjZ5",
    "ortD1tFITjZ6",
    "t1bUuQL1TjZ6",
    "wH5Bx7ChTjZ8",
    "CRBjdmOsTjZ9",
    "GPC0ZJxXTjZ9",
    "rTjd-kmiTjZ_",
    "mzvbilRfTjaA",
    "OiS4yQ1aTjaC",
    "J9UplXpfTjaC"
   ],
   "name": "IMDb_Sentiment.ipynb",
   "provenance": []
  },
  "kernelspec": {
   "display_name": "Python 3",
   "language": "python",
   "name": "python3"
  },
  "language_info": {
   "codemirror_mode": {
    "name": "ipython",
    "version": 3
   },
   "file_extension": ".py",
   "mimetype": "text/x-python",
   "name": "python",
   "nbconvert_exporter": "python",
   "pygments_lexer": "ipython3",
   "version": "3.8.5"
  }
 },
 "nbformat": 4,
 "nbformat_minor": 4
}
